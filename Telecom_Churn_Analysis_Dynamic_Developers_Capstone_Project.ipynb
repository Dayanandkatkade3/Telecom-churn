{
  "nbformat": 4,
  "nbformat_minor": 0,
  "metadata": {
    "kernelspec": {
      "display_name": "Python 3",
      "language": "python",
      "name": "python3"
    },
    "language_info": {
      "codemirror_mode": {
        "name": "ipython",
        "version": 3
      },
      "file_extension": ".py",
      "mimetype": "text/x-python",
      "name": "python",
      "nbconvert_exporter": "python",
      "pygments_lexer": "ipython3",
      "version": "3.6.6"
    },
    "colab": {
      "provenance": [],
      "collapsed_sections": [
        "U_wGxguwR9kY",
        "8UbAa3mA9Dlc",
        "JqoZkB2GshAY",
        "E3Ayi6V4mgMe",
        "0xnUzJUZ3H7C",
        "F8nF-JT83jXR"
      ]
    }
  },
  "cells": [
    {
      "cell_type": "markdown",
      "metadata": {
        "id": "Y06xIdG26kRF"
      },
      "source": [
        "## <b> Orange S.A., formerly France Télécom S.A., is a French multinational telecommunications corporation. The Orange Telecom's Churn Dataset, consists of cleaned customer activity data (features), along with a churn label specifying whether a customer canceled the subscription.\n",
        "\n",
        "## <b> Explore and analyze the data to discover key factors responsible for customer churn and come up with ways/recommendations to ensure customer retention. </b>"
      ]
    },
    {
      "cell_type": "markdown",
      "source": [
        "##**Basic terms used in the Dataset**\n",
        "\n",
        "**State**\t- State in which the customer resides, it is indicated by a two-letter abbreviation\n",
        "\n",
        "**Account length** -\tthe number of active accounts \n",
        "\n",
        "**Area code**\t- the three-digit area code of the corresponding customer’s phone number\n",
        "\n",
        "**International plan** - whether the customer has an active international calling plan\n",
        "\n",
        "**Voice mail plan**\t- whether the customer has an active voice mail feature\n",
        "\n",
        "**Number vmail messages** -  the average number of voice mail messages per month\n",
        "\n",
        "**Total day minutes**\t- the total number of calling minutes used during the day\n",
        "\n",
        "**Total day calls**\t- the total number of calls placed during the day\n",
        "\n",
        "**Total day charge** - the billed cost/charges of daytime calls\n",
        "\n",
        "\n",
        "**Total eve minutes**\t- the total number of calling minutes used in the evening\n",
        "\n",
        "**Total eve calls**\t- the total number of calls placed during the evening\n",
        "\n",
        "**Total eve charge** - \tthe billed cost/charges of calls placed in evening\n",
        "\n",
        "**Total night minutes**\t- the total number of calling minutes used in the night\n",
        "\n",
        "**Total night calls**\t- the total number of calls placed during the night \n",
        "\n",
        "**Total night charge** - the billed cost/charges of night time calls\n",
        "\n",
        "**Total intl minutes** - the total number of minutes during an international call\n",
        "\n",
        "**Total intl calls** - the total number of international calls\n",
        "\n",
        "**Total intl charge**\t- the billed cost/charges of international calls placed\n",
        "\n",
        "**Customer service calls** -  the number of calls placed to Customer Service\n",
        "\n",
        "**Churn** - the number of customers or employees who canceled the services\n",
        "\n",
        "\n"
      ],
      "metadata": {
        "id": "KS2K2Ns1uPRE"
      }
    },
    {
      "cell_type": "code",
      "metadata": {
        "id": "dByMsuzT8Tnw"
      },
      "source": [
        "import numpy as np\n",
        "import pandas as pd\n",
        "from datetime import datetime\n",
        "import matplotlib.pyplot as plt\n",
        "%matplotlib inline\n",
        "import seaborn as sb\n",
        "from sklearn.preprocessing import StandardScaler \n",
        "import plotly.express as px"
      ],
      "execution_count": null,
      "outputs": []
    },
    {
      "cell_type": "code",
      "source": [
        "from google.colab import drive\n",
        "drive.mount('/content/drive')\n",
        "df = pd.read_csv(\"/content/drive/MyDrive/eda capstone/Copy of Telecom Churn.csv\")"
      ],
      "metadata": {
        "id": "LPd8zZusZCSo",
        "colab": {
          "base_uri": "https://localhost:8080/"
        },
        "outputId": "e29d82f7-ae02-4e6e-c33e-92a162ee507e"
      },
      "execution_count": null,
      "outputs": [
        {
          "output_type": "stream",
          "name": "stdout",
          "text": [
            "Mounted at /content/drive\n"
          ]
        }
      ]
    },
    {
      "cell_type": "code",
      "source": [
        "#know the data\n",
        "df.head()"
      ],
      "metadata": {
        "id": "dFncCU-SeX0M",
        "colab": {
          "base_uri": "https://localhost:8080/",
          "height": 285
        },
        "outputId": "94572c80-92e1-4922-ef92-2d79ad2f21b6"
      },
      "execution_count": null,
      "outputs": [
        {
          "output_type": "execute_result",
          "data": {
            "text/plain": [
              "  State  Account length  Area code International plan Voice mail plan  \\\n",
              "0    KS             128        415                 No             Yes   \n",
              "1    OH             107        415                 No             Yes   \n",
              "2    NJ             137        415                 No              No   \n",
              "3    OH              84        408                Yes              No   \n",
              "4    OK              75        415                Yes              No   \n",
              "\n",
              "   Number vmail messages  Total day minutes  Total day calls  \\\n",
              "0                     25              265.1              110   \n",
              "1                     26              161.6              123   \n",
              "2                      0              243.4              114   \n",
              "3                      0              299.4               71   \n",
              "4                      0              166.7              113   \n",
              "\n",
              "   Total day charge  Total eve minutes  Total eve calls  Total eve charge  \\\n",
              "0             45.07              197.4               99             16.78   \n",
              "1             27.47              195.5              103             16.62   \n",
              "2             41.38              121.2              110             10.30   \n",
              "3             50.90               61.9               88              5.26   \n",
              "4             28.34              148.3              122             12.61   \n",
              "\n",
              "   Total night minutes  Total night calls  Total night charge  \\\n",
              "0                244.7                 91               11.01   \n",
              "1                254.4                103               11.45   \n",
              "2                162.6                104                7.32   \n",
              "3                196.9                 89                8.86   \n",
              "4                186.9                121                8.41   \n",
              "\n",
              "   Total intl minutes  Total intl calls  Total intl charge  \\\n",
              "0                10.0                 3               2.70   \n",
              "1                13.7                 3               3.70   \n",
              "2                12.2                 5               3.29   \n",
              "3                 6.6                 7               1.78   \n",
              "4                10.1                 3               2.73   \n",
              "\n",
              "   Customer service calls  Churn  \n",
              "0                       1  False  \n",
              "1                       1  False  \n",
              "2                       0  False  \n",
              "3                       2  False  \n",
              "4                       3  False  "
            ],
            "text/html": [
              "\n",
              "  <div id=\"df-43e640b6-2d00-4dd0-abf8-b9f4c499aad5\">\n",
              "    <div class=\"colab-df-container\">\n",
              "      <div>\n",
              "<style scoped>\n",
              "    .dataframe tbody tr th:only-of-type {\n",
              "        vertical-align: middle;\n",
              "    }\n",
              "\n",
              "    .dataframe tbody tr th {\n",
              "        vertical-align: top;\n",
              "    }\n",
              "\n",
              "    .dataframe thead th {\n",
              "        text-align: right;\n",
              "    }\n",
              "</style>\n",
              "<table border=\"1\" class=\"dataframe\">\n",
              "  <thead>\n",
              "    <tr style=\"text-align: right;\">\n",
              "      <th></th>\n",
              "      <th>State</th>\n",
              "      <th>Account length</th>\n",
              "      <th>Area code</th>\n",
              "      <th>International plan</th>\n",
              "      <th>Voice mail plan</th>\n",
              "      <th>Number vmail messages</th>\n",
              "      <th>Total day minutes</th>\n",
              "      <th>Total day calls</th>\n",
              "      <th>Total day charge</th>\n",
              "      <th>Total eve minutes</th>\n",
              "      <th>Total eve calls</th>\n",
              "      <th>Total eve charge</th>\n",
              "      <th>Total night minutes</th>\n",
              "      <th>Total night calls</th>\n",
              "      <th>Total night charge</th>\n",
              "      <th>Total intl minutes</th>\n",
              "      <th>Total intl calls</th>\n",
              "      <th>Total intl charge</th>\n",
              "      <th>Customer service calls</th>\n",
              "      <th>Churn</th>\n",
              "    </tr>\n",
              "  </thead>\n",
              "  <tbody>\n",
              "    <tr>\n",
              "      <th>0</th>\n",
              "      <td>KS</td>\n",
              "      <td>128</td>\n",
              "      <td>415</td>\n",
              "      <td>No</td>\n",
              "      <td>Yes</td>\n",
              "      <td>25</td>\n",
              "      <td>265.1</td>\n",
              "      <td>110</td>\n",
              "      <td>45.07</td>\n",
              "      <td>197.4</td>\n",
              "      <td>99</td>\n",
              "      <td>16.78</td>\n",
              "      <td>244.7</td>\n",
              "      <td>91</td>\n",
              "      <td>11.01</td>\n",
              "      <td>10.0</td>\n",
              "      <td>3</td>\n",
              "      <td>2.70</td>\n",
              "      <td>1</td>\n",
              "      <td>False</td>\n",
              "    </tr>\n",
              "    <tr>\n",
              "      <th>1</th>\n",
              "      <td>OH</td>\n",
              "      <td>107</td>\n",
              "      <td>415</td>\n",
              "      <td>No</td>\n",
              "      <td>Yes</td>\n",
              "      <td>26</td>\n",
              "      <td>161.6</td>\n",
              "      <td>123</td>\n",
              "      <td>27.47</td>\n",
              "      <td>195.5</td>\n",
              "      <td>103</td>\n",
              "      <td>16.62</td>\n",
              "      <td>254.4</td>\n",
              "      <td>103</td>\n",
              "      <td>11.45</td>\n",
              "      <td>13.7</td>\n",
              "      <td>3</td>\n",
              "      <td>3.70</td>\n",
              "      <td>1</td>\n",
              "      <td>False</td>\n",
              "    </tr>\n",
              "    <tr>\n",
              "      <th>2</th>\n",
              "      <td>NJ</td>\n",
              "      <td>137</td>\n",
              "      <td>415</td>\n",
              "      <td>No</td>\n",
              "      <td>No</td>\n",
              "      <td>0</td>\n",
              "      <td>243.4</td>\n",
              "      <td>114</td>\n",
              "      <td>41.38</td>\n",
              "      <td>121.2</td>\n",
              "      <td>110</td>\n",
              "      <td>10.30</td>\n",
              "      <td>162.6</td>\n",
              "      <td>104</td>\n",
              "      <td>7.32</td>\n",
              "      <td>12.2</td>\n",
              "      <td>5</td>\n",
              "      <td>3.29</td>\n",
              "      <td>0</td>\n",
              "      <td>False</td>\n",
              "    </tr>\n",
              "    <tr>\n",
              "      <th>3</th>\n",
              "      <td>OH</td>\n",
              "      <td>84</td>\n",
              "      <td>408</td>\n",
              "      <td>Yes</td>\n",
              "      <td>No</td>\n",
              "      <td>0</td>\n",
              "      <td>299.4</td>\n",
              "      <td>71</td>\n",
              "      <td>50.90</td>\n",
              "      <td>61.9</td>\n",
              "      <td>88</td>\n",
              "      <td>5.26</td>\n",
              "      <td>196.9</td>\n",
              "      <td>89</td>\n",
              "      <td>8.86</td>\n",
              "      <td>6.6</td>\n",
              "      <td>7</td>\n",
              "      <td>1.78</td>\n",
              "      <td>2</td>\n",
              "      <td>False</td>\n",
              "    </tr>\n",
              "    <tr>\n",
              "      <th>4</th>\n",
              "      <td>OK</td>\n",
              "      <td>75</td>\n",
              "      <td>415</td>\n",
              "      <td>Yes</td>\n",
              "      <td>No</td>\n",
              "      <td>0</td>\n",
              "      <td>166.7</td>\n",
              "      <td>113</td>\n",
              "      <td>28.34</td>\n",
              "      <td>148.3</td>\n",
              "      <td>122</td>\n",
              "      <td>12.61</td>\n",
              "      <td>186.9</td>\n",
              "      <td>121</td>\n",
              "      <td>8.41</td>\n",
              "      <td>10.1</td>\n",
              "      <td>3</td>\n",
              "      <td>2.73</td>\n",
              "      <td>3</td>\n",
              "      <td>False</td>\n",
              "    </tr>\n",
              "  </tbody>\n",
              "</table>\n",
              "</div>\n",
              "      <button class=\"colab-df-convert\" onclick=\"convertToInteractive('df-43e640b6-2d00-4dd0-abf8-b9f4c499aad5')\"\n",
              "              title=\"Convert this dataframe to an interactive table.\"\n",
              "              style=\"display:none;\">\n",
              "        \n",
              "  <svg xmlns=\"http://www.w3.org/2000/svg\" height=\"24px\"viewBox=\"0 0 24 24\"\n",
              "       width=\"24px\">\n",
              "    <path d=\"M0 0h24v24H0V0z\" fill=\"none\"/>\n",
              "    <path d=\"M18.56 5.44l.94 2.06.94-2.06 2.06-.94-2.06-.94-.94-2.06-.94 2.06-2.06.94zm-11 1L8.5 8.5l.94-2.06 2.06-.94-2.06-.94L8.5 2.5l-.94 2.06-2.06.94zm10 10l.94 2.06.94-2.06 2.06-.94-2.06-.94-.94-2.06-.94 2.06-2.06.94z\"/><path d=\"M17.41 7.96l-1.37-1.37c-.4-.4-.92-.59-1.43-.59-.52 0-1.04.2-1.43.59L10.3 9.45l-7.72 7.72c-.78.78-.78 2.05 0 2.83L4 21.41c.39.39.9.59 1.41.59.51 0 1.02-.2 1.41-.59l7.78-7.78 2.81-2.81c.8-.78.8-2.07 0-2.86zM5.41 20L4 18.59l7.72-7.72 1.47 1.35L5.41 20z\"/>\n",
              "  </svg>\n",
              "      </button>\n",
              "      \n",
              "  <style>\n",
              "    .colab-df-container {\n",
              "      display:flex;\n",
              "      flex-wrap:wrap;\n",
              "      gap: 12px;\n",
              "    }\n",
              "\n",
              "    .colab-df-convert {\n",
              "      background-color: #E8F0FE;\n",
              "      border: none;\n",
              "      border-radius: 50%;\n",
              "      cursor: pointer;\n",
              "      display: none;\n",
              "      fill: #1967D2;\n",
              "      height: 32px;\n",
              "      padding: 0 0 0 0;\n",
              "      width: 32px;\n",
              "    }\n",
              "\n",
              "    .colab-df-convert:hover {\n",
              "      background-color: #E2EBFA;\n",
              "      box-shadow: 0px 1px 2px rgba(60, 64, 67, 0.3), 0px 1px 3px 1px rgba(60, 64, 67, 0.15);\n",
              "      fill: #174EA6;\n",
              "    }\n",
              "\n",
              "    [theme=dark] .colab-df-convert {\n",
              "      background-color: #3B4455;\n",
              "      fill: #D2E3FC;\n",
              "    }\n",
              "\n",
              "    [theme=dark] .colab-df-convert:hover {\n",
              "      background-color: #434B5C;\n",
              "      box-shadow: 0px 1px 3px 1px rgba(0, 0, 0, 0.15);\n",
              "      filter: drop-shadow(0px 1px 2px rgba(0, 0, 0, 0.3));\n",
              "      fill: #FFFFFF;\n",
              "    }\n",
              "  </style>\n",
              "\n",
              "      <script>\n",
              "        const buttonEl =\n",
              "          document.querySelector('#df-43e640b6-2d00-4dd0-abf8-b9f4c499aad5 button.colab-df-convert');\n",
              "        buttonEl.style.display =\n",
              "          google.colab.kernel.accessAllowed ? 'block' : 'none';\n",
              "\n",
              "        async function convertToInteractive(key) {\n",
              "          const element = document.querySelector('#df-43e640b6-2d00-4dd0-abf8-b9f4c499aad5');\n",
              "          const dataTable =\n",
              "            await google.colab.kernel.invokeFunction('convertToInteractive',\n",
              "                                                     [key], {});\n",
              "          if (!dataTable) return;\n",
              "\n",
              "          const docLinkHtml = 'Like what you see? Visit the ' +\n",
              "            '<a target=\"_blank\" href=https://colab.research.google.com/notebooks/data_table.ipynb>data table notebook</a>'\n",
              "            + ' to learn more about interactive tables.';\n",
              "          element.innerHTML = '';\n",
              "          dataTable['output_type'] = 'display_data';\n",
              "          await google.colab.output.renderOutput(dataTable, element);\n",
              "          const docLink = document.createElement('div');\n",
              "          docLink.innerHTML = docLinkHtml;\n",
              "          element.appendChild(docLink);\n",
              "        }\n",
              "      </script>\n",
              "    </div>\n",
              "  </div>\n",
              "  "
            ]
          },
          "metadata": {},
          "execution_count": 17
        }
      ]
    },
    {
      "cell_type": "code",
      "source": [
        "#Number of people churned\n",
        "df[df['Churn'] == True]"
      ],
      "metadata": {
        "id": "Sd5NjUvFZknU",
        "colab": {
          "base_uri": "https://localhost:8080/",
          "height": 502
        },
        "outputId": "5aabc63d-48b5-46af-b3d8-eeb00d90714d"
      },
      "execution_count": null,
      "outputs": [
        {
          "output_type": "execute_result",
          "data": {
            "text/plain": [
              "     State  Account length  Area code International plan Voice mail plan  \\\n",
              "10      IN              65        415                 No              No   \n",
              "15      NY             161        415                 No              No   \n",
              "21      CO              77        408                 No              No   \n",
              "33      AZ              12        408                 No              No   \n",
              "41      MD             135        408                Yes             Yes   \n",
              "...    ...             ...        ...                ...             ...   \n",
              "3301    CA              84        415                 No              No   \n",
              "3304    IL              71        510                Yes              No   \n",
              "3320    GA             122        510                Yes              No   \n",
              "3322    MD              62        408                 No              No   \n",
              "3323    IN             117        415                 No              No   \n",
              "\n",
              "      Number vmail messages  Total day minutes  Total day calls  \\\n",
              "10                        0              129.1              137   \n",
              "15                        0              332.9               67   \n",
              "21                        0               62.4               89   \n",
              "33                        0              249.6              118   \n",
              "41                       41              173.1               85   \n",
              "...                     ...                ...              ...   \n",
              "3301                      0              280.0              113   \n",
              "3304                      0              186.1              114   \n",
              "3320                      0              140.0              101   \n",
              "3322                      0              321.1              105   \n",
              "3323                      0              118.4              126   \n",
              "\n",
              "      Total day charge  Total eve minutes  Total eve calls  Total eve charge  \\\n",
              "10               21.95              228.5               83             19.42   \n",
              "15               56.59              317.8               97             27.01   \n",
              "21               10.61              169.9              121             14.44   \n",
              "33               42.43              252.4              119             21.45   \n",
              "41               29.43              203.9              107             17.33   \n",
              "...                ...                ...              ...               ...   \n",
              "3301             47.60              202.2               90             17.19   \n",
              "3304             31.64              198.6              140             16.88   \n",
              "3320             23.80              196.4               77             16.69   \n",
              "3322             54.59              265.5              122             22.57   \n",
              "3323             20.13              249.3               97             21.19   \n",
              "\n",
              "      Total night minutes  Total night calls  Total night charge  \\\n",
              "10                  208.8                111                9.40   \n",
              "15                  160.6                128                7.23   \n",
              "21                  209.6                 64                9.43   \n",
              "33                  280.2                 90               12.61   \n",
              "41                  122.2                 78                5.50   \n",
              "...                   ...                ...                 ...   \n",
              "3301                156.8                103                7.06   \n",
              "3304                206.5                 80                9.29   \n",
              "3320                120.1                133                5.40   \n",
              "3322                180.5                 72                8.12   \n",
              "3323                227.0                 56               10.22   \n",
              "\n",
              "      Total intl minutes  Total intl calls  Total intl charge  \\\n",
              "10                  12.7                 6               3.43   \n",
              "15                   5.4                 9               1.46   \n",
              "21                   5.7                 6               1.54   \n",
              "33                  11.8                 3               3.19   \n",
              "41                  14.6                15               3.94   \n",
              "...                  ...               ...                ...   \n",
              "3301                10.4                 4               2.81   \n",
              "3304                13.8                 5               3.73   \n",
              "3320                 9.7                 4               2.62   \n",
              "3322                11.5                 2               3.11   \n",
              "3323                13.6                 3               3.67   \n",
              "\n",
              "      Customer service calls  Churn  \n",
              "10                         4   True  \n",
              "15                         4   True  \n",
              "21                         5   True  \n",
              "33                         1   True  \n",
              "41                         0   True  \n",
              "...                      ...    ...  \n",
              "3301                       0   True  \n",
              "3304                       4   True  \n",
              "3320                       4   True  \n",
              "3322                       4   True  \n",
              "3323                       5   True  \n",
              "\n",
              "[483 rows x 20 columns]"
            ],
            "text/html": [
              "\n",
              "  <div id=\"df-ca346e70-7ee7-4e1f-a7f4-8584fbe4b7ae\">\n",
              "    <div class=\"colab-df-container\">\n",
              "      <div>\n",
              "<style scoped>\n",
              "    .dataframe tbody tr th:only-of-type {\n",
              "        vertical-align: middle;\n",
              "    }\n",
              "\n",
              "    .dataframe tbody tr th {\n",
              "        vertical-align: top;\n",
              "    }\n",
              "\n",
              "    .dataframe thead th {\n",
              "        text-align: right;\n",
              "    }\n",
              "</style>\n",
              "<table border=\"1\" class=\"dataframe\">\n",
              "  <thead>\n",
              "    <tr style=\"text-align: right;\">\n",
              "      <th></th>\n",
              "      <th>State</th>\n",
              "      <th>Account length</th>\n",
              "      <th>Area code</th>\n",
              "      <th>International plan</th>\n",
              "      <th>Voice mail plan</th>\n",
              "      <th>Number vmail messages</th>\n",
              "      <th>Total day minutes</th>\n",
              "      <th>Total day calls</th>\n",
              "      <th>Total day charge</th>\n",
              "      <th>Total eve minutes</th>\n",
              "      <th>Total eve calls</th>\n",
              "      <th>Total eve charge</th>\n",
              "      <th>Total night minutes</th>\n",
              "      <th>Total night calls</th>\n",
              "      <th>Total night charge</th>\n",
              "      <th>Total intl minutes</th>\n",
              "      <th>Total intl calls</th>\n",
              "      <th>Total intl charge</th>\n",
              "      <th>Customer service calls</th>\n",
              "      <th>Churn</th>\n",
              "    </tr>\n",
              "  </thead>\n",
              "  <tbody>\n",
              "    <tr>\n",
              "      <th>10</th>\n",
              "      <td>IN</td>\n",
              "      <td>65</td>\n",
              "      <td>415</td>\n",
              "      <td>No</td>\n",
              "      <td>No</td>\n",
              "      <td>0</td>\n",
              "      <td>129.1</td>\n",
              "      <td>137</td>\n",
              "      <td>21.95</td>\n",
              "      <td>228.5</td>\n",
              "      <td>83</td>\n",
              "      <td>19.42</td>\n",
              "      <td>208.8</td>\n",
              "      <td>111</td>\n",
              "      <td>9.40</td>\n",
              "      <td>12.7</td>\n",
              "      <td>6</td>\n",
              "      <td>3.43</td>\n",
              "      <td>4</td>\n",
              "      <td>True</td>\n",
              "    </tr>\n",
              "    <tr>\n",
              "      <th>15</th>\n",
              "      <td>NY</td>\n",
              "      <td>161</td>\n",
              "      <td>415</td>\n",
              "      <td>No</td>\n",
              "      <td>No</td>\n",
              "      <td>0</td>\n",
              "      <td>332.9</td>\n",
              "      <td>67</td>\n",
              "      <td>56.59</td>\n",
              "      <td>317.8</td>\n",
              "      <td>97</td>\n",
              "      <td>27.01</td>\n",
              "      <td>160.6</td>\n",
              "      <td>128</td>\n",
              "      <td>7.23</td>\n",
              "      <td>5.4</td>\n",
              "      <td>9</td>\n",
              "      <td>1.46</td>\n",
              "      <td>4</td>\n",
              "      <td>True</td>\n",
              "    </tr>\n",
              "    <tr>\n",
              "      <th>21</th>\n",
              "      <td>CO</td>\n",
              "      <td>77</td>\n",
              "      <td>408</td>\n",
              "      <td>No</td>\n",
              "      <td>No</td>\n",
              "      <td>0</td>\n",
              "      <td>62.4</td>\n",
              "      <td>89</td>\n",
              "      <td>10.61</td>\n",
              "      <td>169.9</td>\n",
              "      <td>121</td>\n",
              "      <td>14.44</td>\n",
              "      <td>209.6</td>\n",
              "      <td>64</td>\n",
              "      <td>9.43</td>\n",
              "      <td>5.7</td>\n",
              "      <td>6</td>\n",
              "      <td>1.54</td>\n",
              "      <td>5</td>\n",
              "      <td>True</td>\n",
              "    </tr>\n",
              "    <tr>\n",
              "      <th>33</th>\n",
              "      <td>AZ</td>\n",
              "      <td>12</td>\n",
              "      <td>408</td>\n",
              "      <td>No</td>\n",
              "      <td>No</td>\n",
              "      <td>0</td>\n",
              "      <td>249.6</td>\n",
              "      <td>118</td>\n",
              "      <td>42.43</td>\n",
              "      <td>252.4</td>\n",
              "      <td>119</td>\n",
              "      <td>21.45</td>\n",
              "      <td>280.2</td>\n",
              "      <td>90</td>\n",
              "      <td>12.61</td>\n",
              "      <td>11.8</td>\n",
              "      <td>3</td>\n",
              "      <td>3.19</td>\n",
              "      <td>1</td>\n",
              "      <td>True</td>\n",
              "    </tr>\n",
              "    <tr>\n",
              "      <th>41</th>\n",
              "      <td>MD</td>\n",
              "      <td>135</td>\n",
              "      <td>408</td>\n",
              "      <td>Yes</td>\n",
              "      <td>Yes</td>\n",
              "      <td>41</td>\n",
              "      <td>173.1</td>\n",
              "      <td>85</td>\n",
              "      <td>29.43</td>\n",
              "      <td>203.9</td>\n",
              "      <td>107</td>\n",
              "      <td>17.33</td>\n",
              "      <td>122.2</td>\n",
              "      <td>78</td>\n",
              "      <td>5.50</td>\n",
              "      <td>14.6</td>\n",
              "      <td>15</td>\n",
              "      <td>3.94</td>\n",
              "      <td>0</td>\n",
              "      <td>True</td>\n",
              "    </tr>\n",
              "    <tr>\n",
              "      <th>...</th>\n",
              "      <td>...</td>\n",
              "      <td>...</td>\n",
              "      <td>...</td>\n",
              "      <td>...</td>\n",
              "      <td>...</td>\n",
              "      <td>...</td>\n",
              "      <td>...</td>\n",
              "      <td>...</td>\n",
              "      <td>...</td>\n",
              "      <td>...</td>\n",
              "      <td>...</td>\n",
              "      <td>...</td>\n",
              "      <td>...</td>\n",
              "      <td>...</td>\n",
              "      <td>...</td>\n",
              "      <td>...</td>\n",
              "      <td>...</td>\n",
              "      <td>...</td>\n",
              "      <td>...</td>\n",
              "      <td>...</td>\n",
              "    </tr>\n",
              "    <tr>\n",
              "      <th>3301</th>\n",
              "      <td>CA</td>\n",
              "      <td>84</td>\n",
              "      <td>415</td>\n",
              "      <td>No</td>\n",
              "      <td>No</td>\n",
              "      <td>0</td>\n",
              "      <td>280.0</td>\n",
              "      <td>113</td>\n",
              "      <td>47.60</td>\n",
              "      <td>202.2</td>\n",
              "      <td>90</td>\n",
              "      <td>17.19</td>\n",
              "      <td>156.8</td>\n",
              "      <td>103</td>\n",
              "      <td>7.06</td>\n",
              "      <td>10.4</td>\n",
              "      <td>4</td>\n",
              "      <td>2.81</td>\n",
              "      <td>0</td>\n",
              "      <td>True</td>\n",
              "    </tr>\n",
              "    <tr>\n",
              "      <th>3304</th>\n",
              "      <td>IL</td>\n",
              "      <td>71</td>\n",
              "      <td>510</td>\n",
              "      <td>Yes</td>\n",
              "      <td>No</td>\n",
              "      <td>0</td>\n",
              "      <td>186.1</td>\n",
              "      <td>114</td>\n",
              "      <td>31.64</td>\n",
              "      <td>198.6</td>\n",
              "      <td>140</td>\n",
              "      <td>16.88</td>\n",
              "      <td>206.5</td>\n",
              "      <td>80</td>\n",
              "      <td>9.29</td>\n",
              "      <td>13.8</td>\n",
              "      <td>5</td>\n",
              "      <td>3.73</td>\n",
              "      <td>4</td>\n",
              "      <td>True</td>\n",
              "    </tr>\n",
              "    <tr>\n",
              "      <th>3320</th>\n",
              "      <td>GA</td>\n",
              "      <td>122</td>\n",
              "      <td>510</td>\n",
              "      <td>Yes</td>\n",
              "      <td>No</td>\n",
              "      <td>0</td>\n",
              "      <td>140.0</td>\n",
              "      <td>101</td>\n",
              "      <td>23.80</td>\n",
              "      <td>196.4</td>\n",
              "      <td>77</td>\n",
              "      <td>16.69</td>\n",
              "      <td>120.1</td>\n",
              "      <td>133</td>\n",
              "      <td>5.40</td>\n",
              "      <td>9.7</td>\n",
              "      <td>4</td>\n",
              "      <td>2.62</td>\n",
              "      <td>4</td>\n",
              "      <td>True</td>\n",
              "    </tr>\n",
              "    <tr>\n",
              "      <th>3322</th>\n",
              "      <td>MD</td>\n",
              "      <td>62</td>\n",
              "      <td>408</td>\n",
              "      <td>No</td>\n",
              "      <td>No</td>\n",
              "      <td>0</td>\n",
              "      <td>321.1</td>\n",
              "      <td>105</td>\n",
              "      <td>54.59</td>\n",
              "      <td>265.5</td>\n",
              "      <td>122</td>\n",
              "      <td>22.57</td>\n",
              "      <td>180.5</td>\n",
              "      <td>72</td>\n",
              "      <td>8.12</td>\n",
              "      <td>11.5</td>\n",
              "      <td>2</td>\n",
              "      <td>3.11</td>\n",
              "      <td>4</td>\n",
              "      <td>True</td>\n",
              "    </tr>\n",
              "    <tr>\n",
              "      <th>3323</th>\n",
              "      <td>IN</td>\n",
              "      <td>117</td>\n",
              "      <td>415</td>\n",
              "      <td>No</td>\n",
              "      <td>No</td>\n",
              "      <td>0</td>\n",
              "      <td>118.4</td>\n",
              "      <td>126</td>\n",
              "      <td>20.13</td>\n",
              "      <td>249.3</td>\n",
              "      <td>97</td>\n",
              "      <td>21.19</td>\n",
              "      <td>227.0</td>\n",
              "      <td>56</td>\n",
              "      <td>10.22</td>\n",
              "      <td>13.6</td>\n",
              "      <td>3</td>\n",
              "      <td>3.67</td>\n",
              "      <td>5</td>\n",
              "      <td>True</td>\n",
              "    </tr>\n",
              "  </tbody>\n",
              "</table>\n",
              "<p>483 rows × 20 columns</p>\n",
              "</div>\n",
              "      <button class=\"colab-df-convert\" onclick=\"convertToInteractive('df-ca346e70-7ee7-4e1f-a7f4-8584fbe4b7ae')\"\n",
              "              title=\"Convert this dataframe to an interactive table.\"\n",
              "              style=\"display:none;\">\n",
              "        \n",
              "  <svg xmlns=\"http://www.w3.org/2000/svg\" height=\"24px\"viewBox=\"0 0 24 24\"\n",
              "       width=\"24px\">\n",
              "    <path d=\"M0 0h24v24H0V0z\" fill=\"none\"/>\n",
              "    <path d=\"M18.56 5.44l.94 2.06.94-2.06 2.06-.94-2.06-.94-.94-2.06-.94 2.06-2.06.94zm-11 1L8.5 8.5l.94-2.06 2.06-.94-2.06-.94L8.5 2.5l-.94 2.06-2.06.94zm10 10l.94 2.06.94-2.06 2.06-.94-2.06-.94-.94-2.06-.94 2.06-2.06.94z\"/><path d=\"M17.41 7.96l-1.37-1.37c-.4-.4-.92-.59-1.43-.59-.52 0-1.04.2-1.43.59L10.3 9.45l-7.72 7.72c-.78.78-.78 2.05 0 2.83L4 21.41c.39.39.9.59 1.41.59.51 0 1.02-.2 1.41-.59l7.78-7.78 2.81-2.81c.8-.78.8-2.07 0-2.86zM5.41 20L4 18.59l7.72-7.72 1.47 1.35L5.41 20z\"/>\n",
              "  </svg>\n",
              "      </button>\n",
              "      \n",
              "  <style>\n",
              "    .colab-df-container {\n",
              "      display:flex;\n",
              "      flex-wrap:wrap;\n",
              "      gap: 12px;\n",
              "    }\n",
              "\n",
              "    .colab-df-convert {\n",
              "      background-color: #E8F0FE;\n",
              "      border: none;\n",
              "      border-radius: 50%;\n",
              "      cursor: pointer;\n",
              "      display: none;\n",
              "      fill: #1967D2;\n",
              "      height: 32px;\n",
              "      padding: 0 0 0 0;\n",
              "      width: 32px;\n",
              "    }\n",
              "\n",
              "    .colab-df-convert:hover {\n",
              "      background-color: #E2EBFA;\n",
              "      box-shadow: 0px 1px 2px rgba(60, 64, 67, 0.3), 0px 1px 3px 1px rgba(60, 64, 67, 0.15);\n",
              "      fill: #174EA6;\n",
              "    }\n",
              "\n",
              "    [theme=dark] .colab-df-convert {\n",
              "      background-color: #3B4455;\n",
              "      fill: #D2E3FC;\n",
              "    }\n",
              "\n",
              "    [theme=dark] .colab-df-convert:hover {\n",
              "      background-color: #434B5C;\n",
              "      box-shadow: 0px 1px 3px 1px rgba(0, 0, 0, 0.15);\n",
              "      filter: drop-shadow(0px 1px 2px rgba(0, 0, 0, 0.3));\n",
              "      fill: #FFFFFF;\n",
              "    }\n",
              "  </style>\n",
              "\n",
              "      <script>\n",
              "        const buttonEl =\n",
              "          document.querySelector('#df-ca346e70-7ee7-4e1f-a7f4-8584fbe4b7ae button.colab-df-convert');\n",
              "        buttonEl.style.display =\n",
              "          google.colab.kernel.accessAllowed ? 'block' : 'none';\n",
              "\n",
              "        async function convertToInteractive(key) {\n",
              "          const element = document.querySelector('#df-ca346e70-7ee7-4e1f-a7f4-8584fbe4b7ae');\n",
              "          const dataTable =\n",
              "            await google.colab.kernel.invokeFunction('convertToInteractive',\n",
              "                                                     [key], {});\n",
              "          if (!dataTable) return;\n",
              "\n",
              "          const docLinkHtml = 'Like what you see? Visit the ' +\n",
              "            '<a target=\"_blank\" href=https://colab.research.google.com/notebooks/data_table.ipynb>data table notebook</a>'\n",
              "            + ' to learn more about interactive tables.';\n",
              "          element.innerHTML = '';\n",
              "          dataTable['output_type'] = 'display_data';\n",
              "          await google.colab.output.renderOutput(dataTable, element);\n",
              "          const docLink = document.createElement('div');\n",
              "          docLink.innerHTML = docLinkHtml;\n",
              "          element.appendChild(docLink);\n",
              "        }\n",
              "      </script>\n",
              "    </div>\n",
              "  </div>\n",
              "  "
            ]
          },
          "metadata": {},
          "execution_count": 18
        }
      ]
    },
    {
      "cell_type": "code",
      "source": [
        "df.info()"
      ],
      "metadata": {
        "id": "_OYGOsx8hxZ5",
        "colab": {
          "base_uri": "https://localhost:8080/"
        },
        "outputId": "3e7c5060-f86f-4a02-8428-140f9b722277"
      },
      "execution_count": null,
      "outputs": [
        {
          "output_type": "stream",
          "name": "stdout",
          "text": [
            "<class 'pandas.core.frame.DataFrame'>\n",
            "RangeIndex: 3333 entries, 0 to 3332\n",
            "Data columns (total 20 columns):\n",
            " #   Column                  Non-Null Count  Dtype  \n",
            "---  ------                  --------------  -----  \n",
            " 0   State                   3333 non-null   object \n",
            " 1   Account length          3333 non-null   int64  \n",
            " 2   Area code               3333 non-null   int64  \n",
            " 3   International plan      3333 non-null   object \n",
            " 4   Voice mail plan         3333 non-null   object \n",
            " 5   Number vmail messages   3333 non-null   int64  \n",
            " 6   Total day minutes       3333 non-null   float64\n",
            " 7   Total day calls         3333 non-null   int64  \n",
            " 8   Total day charge        3333 non-null   float64\n",
            " 9   Total eve minutes       3333 non-null   float64\n",
            " 10  Total eve calls         3333 non-null   int64  \n",
            " 11  Total eve charge        3333 non-null   float64\n",
            " 12  Total night minutes     3333 non-null   float64\n",
            " 13  Total night calls       3333 non-null   int64  \n",
            " 14  Total night charge      3333 non-null   float64\n",
            " 15  Total intl minutes      3333 non-null   float64\n",
            " 16  Total intl calls        3333 non-null   int64  \n",
            " 17  Total intl charge       3333 non-null   float64\n",
            " 18  Customer service calls  3333 non-null   int64  \n",
            " 19  Churn                   3333 non-null   bool   \n",
            "dtypes: bool(1), float64(8), int64(8), object(3)\n",
            "memory usage: 498.1+ KB\n"
          ]
        }
      ]
    },
    {
      "cell_type": "code",
      "source": [
        "df.shape"
      ],
      "metadata": {
        "id": "AP2gveBSPKKo"
      },
      "execution_count": null,
      "outputs": []
    },
    {
      "cell_type": "code",
      "source": [
        "#getting all the columns\n",
        "df.columns"
      ],
      "metadata": {
        "id": "XwwYXX5yPkLU",
        "colab": {
          "base_uri": "https://localhost:8080/"
        },
        "outputId": "66e0586a-c0d2-440f-cc51-9f4c13c8f1e1"
      },
      "execution_count": null,
      "outputs": [
        {
          "output_type": "execute_result",
          "data": {
            "text/plain": [
              "Index(['State', 'Account length', 'Area code', 'International plan',\n",
              "       'Voice mail plan', 'Number vmail messages', 'Total day minutes',\n",
              "       'Total day calls', 'Total day charge', 'Total eve minutes',\n",
              "       'Total eve calls', 'Total eve charge', 'Total night minutes',\n",
              "       'Total night calls', 'Total night charge', 'Total intl minutes',\n",
              "       'Total intl calls', 'Total intl charge', 'Customer service calls',\n",
              "       'Churn'],\n",
              "      dtype='object')"
            ]
          },
          "metadata": {},
          "execution_count": 20
        }
      ]
    },
    {
      "cell_type": "code",
      "source": [
        "df.nunique()"
      ],
      "metadata": {
        "id": "aQ19aGDGP_YV",
        "colab": {
          "base_uri": "https://localhost:8080/"
        },
        "outputId": "fc8a1d92-e4a6-4cf4-8e71-3a8072bb1437"
      },
      "execution_count": null,
      "outputs": [
        {
          "output_type": "execute_result",
          "data": {
            "text/plain": [
              "State                       51\n",
              "Account length             212\n",
              "Area code                    3\n",
              "International plan           2\n",
              "Voice mail plan              2\n",
              "Number vmail messages       46\n",
              "Total day minutes         1667\n",
              "Total day calls            119\n",
              "Total day charge          1667\n",
              "Total eve minutes         1611\n",
              "Total eve calls            123\n",
              "Total eve charge          1440\n",
              "Total night minutes       1591\n",
              "Total night calls          120\n",
              "Total night charge         933\n",
              "Total intl minutes         162\n",
              "Total intl calls            21\n",
              "Total intl charge          162\n",
              "Customer service calls      10\n",
              "Churn                        2\n",
              "dtype: int64"
            ]
          },
          "metadata": {},
          "execution_count": 21
        }
      ]
    },
    {
      "cell_type": "code",
      "source": [
        "#looking for description of data for more clear insights\n",
        "df.describe(include='all').T"
      ],
      "metadata": {
        "id": "c0VlvtNKPyc5",
        "colab": {
          "base_uri": "https://localhost:8080/",
          "height": 676
        },
        "outputId": "b9041966-2cfd-4918-d1ad-64731da0da99"
      },
      "execution_count": null,
      "outputs": [
        {
          "output_type": "execute_result",
          "data": {
            "text/plain": [
              "                         count unique    top  freq        mean        std  \\\n",
              "State                     3333     51     WV   106         NaN        NaN   \n",
              "Account length          3333.0    NaN    NaN   NaN  101.064806  39.822106   \n",
              "Area code               3333.0    NaN    NaN   NaN  437.182418   42.37129   \n",
              "International plan        3333      2     No  3010         NaN        NaN   \n",
              "Voice mail plan           3333      2     No  2411         NaN        NaN   \n",
              "Number vmail messages   3333.0    NaN    NaN   NaN     8.09901  13.688365   \n",
              "Total day minutes       3333.0    NaN    NaN   NaN  179.775098  54.467389   \n",
              "Total day calls         3333.0    NaN    NaN   NaN  100.435644  20.069084   \n",
              "Total day charge        3333.0    NaN    NaN   NaN   30.562307   9.259435   \n",
              "Total eve minutes       3333.0    NaN    NaN   NaN  200.980348  50.713844   \n",
              "Total eve calls         3333.0    NaN    NaN   NaN  100.114311  19.922625   \n",
              "Total eve charge        3333.0    NaN    NaN   NaN    17.08354   4.310668   \n",
              "Total night minutes     3333.0    NaN    NaN   NaN  200.872037  50.573847   \n",
              "Total night calls       3333.0    NaN    NaN   NaN  100.107711  19.568609   \n",
              "Total night charge      3333.0    NaN    NaN   NaN    9.039325   2.275873   \n",
              "Total intl minutes      3333.0    NaN    NaN   NaN   10.237294    2.79184   \n",
              "Total intl calls        3333.0    NaN    NaN   NaN    4.479448   2.461214   \n",
              "Total intl charge       3333.0    NaN    NaN   NaN    2.764581   0.753773   \n",
              "Customer service calls  3333.0    NaN    NaN   NaN    1.562856   1.315491   \n",
              "Churn                     3333      2  False  2850         NaN        NaN   \n",
              "\n",
              "                          min    25%    50%    75%    max  \n",
              "State                     NaN    NaN    NaN    NaN    NaN  \n",
              "Account length            1.0   74.0  101.0  127.0  243.0  \n",
              "Area code               408.0  408.0  415.0  510.0  510.0  \n",
              "International plan        NaN    NaN    NaN    NaN    NaN  \n",
              "Voice mail plan           NaN    NaN    NaN    NaN    NaN  \n",
              "Number vmail messages     0.0    0.0    0.0   20.0   51.0  \n",
              "Total day minutes         0.0  143.7  179.4  216.4  350.8  \n",
              "Total day calls           0.0   87.0  101.0  114.0  165.0  \n",
              "Total day charge          0.0  24.43   30.5  36.79  59.64  \n",
              "Total eve minutes         0.0  166.6  201.4  235.3  363.7  \n",
              "Total eve calls           0.0   87.0  100.0  114.0  170.0  \n",
              "Total eve charge          0.0  14.16  17.12   20.0  30.91  \n",
              "Total night minutes      23.2  167.0  201.2  235.3  395.0  \n",
              "Total night calls        33.0   87.0  100.0  113.0  175.0  \n",
              "Total night charge       1.04   7.52   9.05  10.59  17.77  \n",
              "Total intl minutes        0.0    8.5   10.3   12.1   20.0  \n",
              "Total intl calls          0.0    3.0    4.0    6.0   20.0  \n",
              "Total intl charge         0.0    2.3   2.78   3.27    5.4  \n",
              "Customer service calls    0.0    1.0    1.0    2.0    9.0  \n",
              "Churn                     NaN    NaN    NaN    NaN    NaN  "
            ],
            "text/html": [
              "\n",
              "  <div id=\"df-2d53177b-687d-4252-8cb2-e612f6c527dc\">\n",
              "    <div class=\"colab-df-container\">\n",
              "      <div>\n",
              "<style scoped>\n",
              "    .dataframe tbody tr th:only-of-type {\n",
              "        vertical-align: middle;\n",
              "    }\n",
              "\n",
              "    .dataframe tbody tr th {\n",
              "        vertical-align: top;\n",
              "    }\n",
              "\n",
              "    .dataframe thead th {\n",
              "        text-align: right;\n",
              "    }\n",
              "</style>\n",
              "<table border=\"1\" class=\"dataframe\">\n",
              "  <thead>\n",
              "    <tr style=\"text-align: right;\">\n",
              "      <th></th>\n",
              "      <th>count</th>\n",
              "      <th>unique</th>\n",
              "      <th>top</th>\n",
              "      <th>freq</th>\n",
              "      <th>mean</th>\n",
              "      <th>std</th>\n",
              "      <th>min</th>\n",
              "      <th>25%</th>\n",
              "      <th>50%</th>\n",
              "      <th>75%</th>\n",
              "      <th>max</th>\n",
              "    </tr>\n",
              "  </thead>\n",
              "  <tbody>\n",
              "    <tr>\n",
              "      <th>State</th>\n",
              "      <td>3333</td>\n",
              "      <td>51</td>\n",
              "      <td>WV</td>\n",
              "      <td>106</td>\n",
              "      <td>NaN</td>\n",
              "      <td>NaN</td>\n",
              "      <td>NaN</td>\n",
              "      <td>NaN</td>\n",
              "      <td>NaN</td>\n",
              "      <td>NaN</td>\n",
              "      <td>NaN</td>\n",
              "    </tr>\n",
              "    <tr>\n",
              "      <th>Account length</th>\n",
              "      <td>3333.0</td>\n",
              "      <td>NaN</td>\n",
              "      <td>NaN</td>\n",
              "      <td>NaN</td>\n",
              "      <td>101.064806</td>\n",
              "      <td>39.822106</td>\n",
              "      <td>1.0</td>\n",
              "      <td>74.0</td>\n",
              "      <td>101.0</td>\n",
              "      <td>127.0</td>\n",
              "      <td>243.0</td>\n",
              "    </tr>\n",
              "    <tr>\n",
              "      <th>Area code</th>\n",
              "      <td>3333.0</td>\n",
              "      <td>NaN</td>\n",
              "      <td>NaN</td>\n",
              "      <td>NaN</td>\n",
              "      <td>437.182418</td>\n",
              "      <td>42.37129</td>\n",
              "      <td>408.0</td>\n",
              "      <td>408.0</td>\n",
              "      <td>415.0</td>\n",
              "      <td>510.0</td>\n",
              "      <td>510.0</td>\n",
              "    </tr>\n",
              "    <tr>\n",
              "      <th>International plan</th>\n",
              "      <td>3333</td>\n",
              "      <td>2</td>\n",
              "      <td>No</td>\n",
              "      <td>3010</td>\n",
              "      <td>NaN</td>\n",
              "      <td>NaN</td>\n",
              "      <td>NaN</td>\n",
              "      <td>NaN</td>\n",
              "      <td>NaN</td>\n",
              "      <td>NaN</td>\n",
              "      <td>NaN</td>\n",
              "    </tr>\n",
              "    <tr>\n",
              "      <th>Voice mail plan</th>\n",
              "      <td>3333</td>\n",
              "      <td>2</td>\n",
              "      <td>No</td>\n",
              "      <td>2411</td>\n",
              "      <td>NaN</td>\n",
              "      <td>NaN</td>\n",
              "      <td>NaN</td>\n",
              "      <td>NaN</td>\n",
              "      <td>NaN</td>\n",
              "      <td>NaN</td>\n",
              "      <td>NaN</td>\n",
              "    </tr>\n",
              "    <tr>\n",
              "      <th>Number vmail messages</th>\n",
              "      <td>3333.0</td>\n",
              "      <td>NaN</td>\n",
              "      <td>NaN</td>\n",
              "      <td>NaN</td>\n",
              "      <td>8.09901</td>\n",
              "      <td>13.688365</td>\n",
              "      <td>0.0</td>\n",
              "      <td>0.0</td>\n",
              "      <td>0.0</td>\n",
              "      <td>20.0</td>\n",
              "      <td>51.0</td>\n",
              "    </tr>\n",
              "    <tr>\n",
              "      <th>Total day minutes</th>\n",
              "      <td>3333.0</td>\n",
              "      <td>NaN</td>\n",
              "      <td>NaN</td>\n",
              "      <td>NaN</td>\n",
              "      <td>179.775098</td>\n",
              "      <td>54.467389</td>\n",
              "      <td>0.0</td>\n",
              "      <td>143.7</td>\n",
              "      <td>179.4</td>\n",
              "      <td>216.4</td>\n",
              "      <td>350.8</td>\n",
              "    </tr>\n",
              "    <tr>\n",
              "      <th>Total day calls</th>\n",
              "      <td>3333.0</td>\n",
              "      <td>NaN</td>\n",
              "      <td>NaN</td>\n",
              "      <td>NaN</td>\n",
              "      <td>100.435644</td>\n",
              "      <td>20.069084</td>\n",
              "      <td>0.0</td>\n",
              "      <td>87.0</td>\n",
              "      <td>101.0</td>\n",
              "      <td>114.0</td>\n",
              "      <td>165.0</td>\n",
              "    </tr>\n",
              "    <tr>\n",
              "      <th>Total day charge</th>\n",
              "      <td>3333.0</td>\n",
              "      <td>NaN</td>\n",
              "      <td>NaN</td>\n",
              "      <td>NaN</td>\n",
              "      <td>30.562307</td>\n",
              "      <td>9.259435</td>\n",
              "      <td>0.0</td>\n",
              "      <td>24.43</td>\n",
              "      <td>30.5</td>\n",
              "      <td>36.79</td>\n",
              "      <td>59.64</td>\n",
              "    </tr>\n",
              "    <tr>\n",
              "      <th>Total eve minutes</th>\n",
              "      <td>3333.0</td>\n",
              "      <td>NaN</td>\n",
              "      <td>NaN</td>\n",
              "      <td>NaN</td>\n",
              "      <td>200.980348</td>\n",
              "      <td>50.713844</td>\n",
              "      <td>0.0</td>\n",
              "      <td>166.6</td>\n",
              "      <td>201.4</td>\n",
              "      <td>235.3</td>\n",
              "      <td>363.7</td>\n",
              "    </tr>\n",
              "    <tr>\n",
              "      <th>Total eve calls</th>\n",
              "      <td>3333.0</td>\n",
              "      <td>NaN</td>\n",
              "      <td>NaN</td>\n",
              "      <td>NaN</td>\n",
              "      <td>100.114311</td>\n",
              "      <td>19.922625</td>\n",
              "      <td>0.0</td>\n",
              "      <td>87.0</td>\n",
              "      <td>100.0</td>\n",
              "      <td>114.0</td>\n",
              "      <td>170.0</td>\n",
              "    </tr>\n",
              "    <tr>\n",
              "      <th>Total eve charge</th>\n",
              "      <td>3333.0</td>\n",
              "      <td>NaN</td>\n",
              "      <td>NaN</td>\n",
              "      <td>NaN</td>\n",
              "      <td>17.08354</td>\n",
              "      <td>4.310668</td>\n",
              "      <td>0.0</td>\n",
              "      <td>14.16</td>\n",
              "      <td>17.12</td>\n",
              "      <td>20.0</td>\n",
              "      <td>30.91</td>\n",
              "    </tr>\n",
              "    <tr>\n",
              "      <th>Total night minutes</th>\n",
              "      <td>3333.0</td>\n",
              "      <td>NaN</td>\n",
              "      <td>NaN</td>\n",
              "      <td>NaN</td>\n",
              "      <td>200.872037</td>\n",
              "      <td>50.573847</td>\n",
              "      <td>23.2</td>\n",
              "      <td>167.0</td>\n",
              "      <td>201.2</td>\n",
              "      <td>235.3</td>\n",
              "      <td>395.0</td>\n",
              "    </tr>\n",
              "    <tr>\n",
              "      <th>Total night calls</th>\n",
              "      <td>3333.0</td>\n",
              "      <td>NaN</td>\n",
              "      <td>NaN</td>\n",
              "      <td>NaN</td>\n",
              "      <td>100.107711</td>\n",
              "      <td>19.568609</td>\n",
              "      <td>33.0</td>\n",
              "      <td>87.0</td>\n",
              "      <td>100.0</td>\n",
              "      <td>113.0</td>\n",
              "      <td>175.0</td>\n",
              "    </tr>\n",
              "    <tr>\n",
              "      <th>Total night charge</th>\n",
              "      <td>3333.0</td>\n",
              "      <td>NaN</td>\n",
              "      <td>NaN</td>\n",
              "      <td>NaN</td>\n",
              "      <td>9.039325</td>\n",
              "      <td>2.275873</td>\n",
              "      <td>1.04</td>\n",
              "      <td>7.52</td>\n",
              "      <td>9.05</td>\n",
              "      <td>10.59</td>\n",
              "      <td>17.77</td>\n",
              "    </tr>\n",
              "    <tr>\n",
              "      <th>Total intl minutes</th>\n",
              "      <td>3333.0</td>\n",
              "      <td>NaN</td>\n",
              "      <td>NaN</td>\n",
              "      <td>NaN</td>\n",
              "      <td>10.237294</td>\n",
              "      <td>2.79184</td>\n",
              "      <td>0.0</td>\n",
              "      <td>8.5</td>\n",
              "      <td>10.3</td>\n",
              "      <td>12.1</td>\n",
              "      <td>20.0</td>\n",
              "    </tr>\n",
              "    <tr>\n",
              "      <th>Total intl calls</th>\n",
              "      <td>3333.0</td>\n",
              "      <td>NaN</td>\n",
              "      <td>NaN</td>\n",
              "      <td>NaN</td>\n",
              "      <td>4.479448</td>\n",
              "      <td>2.461214</td>\n",
              "      <td>0.0</td>\n",
              "      <td>3.0</td>\n",
              "      <td>4.0</td>\n",
              "      <td>6.0</td>\n",
              "      <td>20.0</td>\n",
              "    </tr>\n",
              "    <tr>\n",
              "      <th>Total intl charge</th>\n",
              "      <td>3333.0</td>\n",
              "      <td>NaN</td>\n",
              "      <td>NaN</td>\n",
              "      <td>NaN</td>\n",
              "      <td>2.764581</td>\n",
              "      <td>0.753773</td>\n",
              "      <td>0.0</td>\n",
              "      <td>2.3</td>\n",
              "      <td>2.78</td>\n",
              "      <td>3.27</td>\n",
              "      <td>5.4</td>\n",
              "    </tr>\n",
              "    <tr>\n",
              "      <th>Customer service calls</th>\n",
              "      <td>3333.0</td>\n",
              "      <td>NaN</td>\n",
              "      <td>NaN</td>\n",
              "      <td>NaN</td>\n",
              "      <td>1.562856</td>\n",
              "      <td>1.315491</td>\n",
              "      <td>0.0</td>\n",
              "      <td>1.0</td>\n",
              "      <td>1.0</td>\n",
              "      <td>2.0</td>\n",
              "      <td>9.0</td>\n",
              "    </tr>\n",
              "    <tr>\n",
              "      <th>Churn</th>\n",
              "      <td>3333</td>\n",
              "      <td>2</td>\n",
              "      <td>False</td>\n",
              "      <td>2850</td>\n",
              "      <td>NaN</td>\n",
              "      <td>NaN</td>\n",
              "      <td>NaN</td>\n",
              "      <td>NaN</td>\n",
              "      <td>NaN</td>\n",
              "      <td>NaN</td>\n",
              "      <td>NaN</td>\n",
              "    </tr>\n",
              "  </tbody>\n",
              "</table>\n",
              "</div>\n",
              "      <button class=\"colab-df-convert\" onclick=\"convertToInteractive('df-2d53177b-687d-4252-8cb2-e612f6c527dc')\"\n",
              "              title=\"Convert this dataframe to an interactive table.\"\n",
              "              style=\"display:none;\">\n",
              "        \n",
              "  <svg xmlns=\"http://www.w3.org/2000/svg\" height=\"24px\"viewBox=\"0 0 24 24\"\n",
              "       width=\"24px\">\n",
              "    <path d=\"M0 0h24v24H0V0z\" fill=\"none\"/>\n",
              "    <path d=\"M18.56 5.44l.94 2.06.94-2.06 2.06-.94-2.06-.94-.94-2.06-.94 2.06-2.06.94zm-11 1L8.5 8.5l.94-2.06 2.06-.94-2.06-.94L8.5 2.5l-.94 2.06-2.06.94zm10 10l.94 2.06.94-2.06 2.06-.94-2.06-.94-.94-2.06-.94 2.06-2.06.94z\"/><path d=\"M17.41 7.96l-1.37-1.37c-.4-.4-.92-.59-1.43-.59-.52 0-1.04.2-1.43.59L10.3 9.45l-7.72 7.72c-.78.78-.78 2.05 0 2.83L4 21.41c.39.39.9.59 1.41.59.51 0 1.02-.2 1.41-.59l7.78-7.78 2.81-2.81c.8-.78.8-2.07 0-2.86zM5.41 20L4 18.59l7.72-7.72 1.47 1.35L5.41 20z\"/>\n",
              "  </svg>\n",
              "      </button>\n",
              "      \n",
              "  <style>\n",
              "    .colab-df-container {\n",
              "      display:flex;\n",
              "      flex-wrap:wrap;\n",
              "      gap: 12px;\n",
              "    }\n",
              "\n",
              "    .colab-df-convert {\n",
              "      background-color: #E8F0FE;\n",
              "      border: none;\n",
              "      border-radius: 50%;\n",
              "      cursor: pointer;\n",
              "      display: none;\n",
              "      fill: #1967D2;\n",
              "      height: 32px;\n",
              "      padding: 0 0 0 0;\n",
              "      width: 32px;\n",
              "    }\n",
              "\n",
              "    .colab-df-convert:hover {\n",
              "      background-color: #E2EBFA;\n",
              "      box-shadow: 0px 1px 2px rgba(60, 64, 67, 0.3), 0px 1px 3px 1px rgba(60, 64, 67, 0.15);\n",
              "      fill: #174EA6;\n",
              "    }\n",
              "\n",
              "    [theme=dark] .colab-df-convert {\n",
              "      background-color: #3B4455;\n",
              "      fill: #D2E3FC;\n",
              "    }\n",
              "\n",
              "    [theme=dark] .colab-df-convert:hover {\n",
              "      background-color: #434B5C;\n",
              "      box-shadow: 0px 1px 3px 1px rgba(0, 0, 0, 0.15);\n",
              "      filter: drop-shadow(0px 1px 2px rgba(0, 0, 0, 0.3));\n",
              "      fill: #FFFFFF;\n",
              "    }\n",
              "  </style>\n",
              "\n",
              "      <script>\n",
              "        const buttonEl =\n",
              "          document.querySelector('#df-2d53177b-687d-4252-8cb2-e612f6c527dc button.colab-df-convert');\n",
              "        buttonEl.style.display =\n",
              "          google.colab.kernel.accessAllowed ? 'block' : 'none';\n",
              "\n",
              "        async function convertToInteractive(key) {\n",
              "          const element = document.querySelector('#df-2d53177b-687d-4252-8cb2-e612f6c527dc');\n",
              "          const dataTable =\n",
              "            await google.colab.kernel.invokeFunction('convertToInteractive',\n",
              "                                                     [key], {});\n",
              "          if (!dataTable) return;\n",
              "\n",
              "          const docLinkHtml = 'Like what you see? Visit the ' +\n",
              "            '<a target=\"_blank\" href=https://colab.research.google.com/notebooks/data_table.ipynb>data table notebook</a>'\n",
              "            + ' to learn more about interactive tables.';\n",
              "          element.innerHTML = '';\n",
              "          dataTable['output_type'] = 'display_data';\n",
              "          await google.colab.output.renderOutput(dataTable, element);\n",
              "          const docLink = document.createElement('div');\n",
              "          docLink.innerHTML = docLinkHtml;\n",
              "          element.appendChild(docLink);\n",
              "        }\n",
              "      </script>\n",
              "    </div>\n",
              "  </div>\n",
              "  "
            ]
          },
          "metadata": {},
          "execution_count": 22
        }
      ]
    },
    {
      "cell_type": "code",
      "source": [
        "#no of churned accounts\n",
        "df.Churn.value_counts()"
      ],
      "metadata": {
        "id": "aqBMvJdrQeM_",
        "colab": {
          "base_uri": "https://localhost:8080/"
        },
        "outputId": "ee249ae6-6c96-4e66-bdc9-4b4bc5f66dd4"
      },
      "execution_count": null,
      "outputs": [
        {
          "output_type": "execute_result",
          "data": {
            "text/plain": [
              "False    2850\n",
              "True      483\n",
              "Name: Churn, dtype: int64"
            ]
          },
          "metadata": {},
          "execution_count": 23
        }
      ]
    },
    {
      "cell_type": "markdown",
      "source": [
        "**Checking for Duplicate values **"
      ],
      "metadata": {
        "id": "g-K1Be5vRV-u"
      }
    },
    {
      "cell_type": "code",
      "source": [
        "df.isna().sum()\n",
        "df.isnull().sum()\n",
        "#there are no null or duplicate values in our data"
      ],
      "metadata": {
        "id": "ExXWvmG4Q2Ej",
        "colab": {
          "base_uri": "https://localhost:8080/"
        },
        "outputId": "80ef743a-43a8-4f16-f42c-91fc159d14b7"
      },
      "execution_count": null,
      "outputs": [
        {
          "output_type": "execute_result",
          "data": {
            "text/plain": [
              "State                     0\n",
              "Account length            0\n",
              "Area code                 0\n",
              "International plan        0\n",
              "Voice mail plan           0\n",
              "Number vmail messages     0\n",
              "Total day minutes         0\n",
              "Total day calls           0\n",
              "Total day charge          0\n",
              "Total eve minutes         0\n",
              "Total eve calls           0\n",
              "Total eve charge          0\n",
              "Total night minutes       0\n",
              "Total night calls         0\n",
              "Total night charge        0\n",
              "Total intl minutes        0\n",
              "Total intl calls          0\n",
              "Total intl charge         0\n",
              "Customer service calls    0\n",
              "Churn                     0\n",
              "dtype: int64"
            ]
          },
          "metadata": {},
          "execution_count": 24
        }
      ]
    },
    {
      "cell_type": "markdown",
      "source": [
        "#Exploratory data Analysis on our data*\n",
        "\n",
        "```\n",
        "# we will Analyse our dependent variable that is \"Churn\" to every Other variable\n",
        "\n"
      ],
      "metadata": {
        "id": "U_wGxguwR9kY"
      }
    },
    {
      "cell_type": "code",
      "source": [
        "#for piechart of churn variable\n",
        "df['Churn'].value_counts().plot.pie(explode=[0.05,0.05], autopct='%1.1f%%',startangle=90,shadow=True, figsize=(10,8))\n",
        "plt.title('Pie-chart for Churn')\n",
        "plt.show()"
      ],
      "metadata": {
        "id": "fSDR3Gn6Ry83",
        "colab": {
          "base_uri": "https://localhost:8080/",
          "height": 482
        },
        "outputId": "f5dc53bb-d885-47f8-a230-7637e5121773"
      },
      "execution_count": null,
      "outputs": [
        {
          "output_type": "display_data",
          "data": {
            "text/plain": [
              "<Figure size 720x576 with 1 Axes>"
            ],
            "image/png": "[encoded data removed]"
          },
          "metadata": {}
        }
      ]
    },
    {
      "cell_type": "markdown",
      "source": [
        "Nearly 15% people have churned"
      ],
      "metadata": {
        "id": "i9BN5qp3WGDU"
      }
    },
    {
      "cell_type": "code",
      "source": [
        "#Now lets see countplot of churn\n",
        "sb.countplot(x=df.Churn)"
      ],
      "metadata": {
        "id": "H4hIJkGgVtAr",
        "colab": {
          "base_uri": "https://localhost:8080/",
          "height": 297
        },
        "outputId": "dd285bbe-fb09-45a8-e202-70531a5713a1"
      },
      "execution_count": null,
      "outputs": [
        {
          "output_type": "execute_result",
          "data": {
            "text/plain": [
              "<matplotlib.axes._subplots.AxesSubplot at 0x7fa3da7ea950>"
            ]
          },
          "metadata": {},
          "execution_count": 26
        },
        {
          "output_type": "display_data",
          "data": {
            "text/plain": [
              "<Figure size 432x288 with 1 Axes>"
            ],
            "image/png": "[encoded data removed]"
          },
          "metadata": {
            "needs_background": "light"
          }
        }
      ]
    },
    {
      "cell_type": "markdown",
      "source": [
        "**After analyzing the churn column, we can say that almost 15% of customers have churned.Now let's see how other features of our data are related with churn**"
      ],
      "metadata": {
        "id": "VsstMgy3W2Ek"
      }
    },
    {
      "cell_type": "markdown",
      "source": [
        "#Now analysing State column"
      ],
      "metadata": {
        "id": "7sUu1hb4YoIp"
      }
    },
    {
      "cell_type": "code",
      "source": [
        "#state wise churn percentage\n",
        "State_data = pd.crosstab(df[\"State\"],df[\"Churn\"])\n",
        "State_data['Percentage_Churn'] = State_data.apply(lambda x : x[1]*100/(x[0]+x[1]),axis = 1)\n",
        "print(State_data)"
      ],
      "metadata": {
        "id": "FZCTSSXZZsTB",
        "colab": {
          "base_uri": "https://localhost:8080/"
        },
        "outputId": "16694c01-6491-43cf-8bdc-6cac588b9dad"
      },
      "execution_count": null,
      "outputs": [
        {
          "output_type": "stream",
          "name": "stdout",
          "text": [
            "Churn  False  True  Percentage_Churn\n",
            "State                               \n",
            "AK        49     3          5.769231\n",
            "AL        72     8         10.000000\n",
            "AR        44    11         20.000000\n",
            "AZ        60     4          6.250000\n",
            "CA        25     9         26.470588\n",
            "CO        57     9         13.636364\n",
            "CT        62    12         16.216216\n",
            "DC        49     5          9.259259\n",
            "DE        52     9         14.754098\n",
            "FL        55     8         12.698413\n",
            "GA        46     8         14.814815\n",
            "HI        50     3          5.660377\n",
            "IA        41     3          6.818182\n",
            "ID        64     9         12.328767\n",
            "IL        53     5          8.620690\n",
            "IN        62     9         12.676056\n",
            "KS        57    13         18.571429\n",
            "KY        51     8         13.559322\n",
            "LA        47     4          7.843137\n",
            "MA        54    11         16.923077\n",
            "MD        53    17         24.285714\n",
            "ME        49    13         20.967742\n",
            "MI        57    16         21.917808\n",
            "MN        69    15         17.857143\n",
            "MO        56     7         11.111111\n",
            "MS        51    14         21.538462\n",
            "MT        54    14         20.588235\n",
            "NC        57    11         16.176471\n",
            "ND        56     6          9.677419\n",
            "NE        56     5          8.196721\n",
            "NH        47     9         16.071429\n",
            "NJ        50    18         26.470588\n",
            "NM        56     6          9.677419\n",
            "NV        52    14         21.212121\n",
            "NY        68    15         18.072289\n",
            "OH        68    10         12.820513\n",
            "OK        52     9         14.754098\n",
            "OR        67    11         14.102564\n",
            "PA        37     8         17.777778\n",
            "RI        59     6          9.230769\n",
            "SC        46    14         23.333333\n",
            "SD        52     8         13.333333\n",
            "TN        48     5          9.433962\n",
            "TX        54    18         25.000000\n",
            "UT        62    10         13.888889\n",
            "VA        72     5          6.493506\n",
            "VT        65     8         10.958904\n",
            "WA        52    14         21.212121\n",
            "WI        71     7          8.974359\n",
            "WV        96    10          9.433962\n",
            "WY        68     9         11.688312\n"
          ]
        }
      ]
    },
    {
      "cell_type": "code",
      "source": [
        "#show the most churn state of top 10\n",
        "df.groupby(['State'])['Churn'].mean().sort_values(ascending = False).head(10)"
      ],
      "metadata": {
        "id": "VGTYKIbCaKVD",
        "colab": {
          "base_uri": "https://localhost:8080/"
        },
        "outputId": "9a005b49-369a-4079-f457-15203f4c2110"
      },
      "execution_count": null,
      "outputs": [
        {
          "output_type": "execute_result",
          "data": {
            "text/plain": [
              "State\n",
              "NJ    0.264706\n",
              "CA    0.264706\n",
              "TX    0.250000\n",
              "MD    0.242857\n",
              "SC    0.233333\n",
              "MI    0.219178\n",
              "MS    0.215385\n",
              "NV    0.212121\n",
              "WA    0.212121\n",
              "ME    0.209677\n",
              "Name: Churn, dtype: float64"
            ]
          },
          "metadata": {},
          "execution_count": 28
        }
      ]
    },
    {
      "cell_type": "code",
      "source": [
        "#there are 51 unique sates\n",
        "plt.rcParams['figure.figsize'] = (12, 7)\n",
        "((df.groupby(['State'])['Churn'].mean())*100).sort_values(ascending = False).head(10).plot.bar(color = ['violet','indigo','b','g','y','orange','r'])\n",
        "plt.title(\" State with most churn percentage\", fontsize = 20)\n",
        "plt.xlabel('state', fontsize = 15)\n",
        "plt.ylabel('percentage', fontsize = 15)\n",
        "plt.show()"
      ],
      "metadata": {
        "id": "wXJRJpyjWcyp",
        "colab": {
          "base_uri": "https://localhost:8080/",
          "height": 475
        },
        "outputId": "be4d4f0a-2f78-4e0f-da82-0d29343b9bf1"
      },
      "execution_count": null,
      "outputs": [
        {
          "output_type": "display_data",
          "data": {
            "text/plain": [
              "<Figure size 864x504 with 1 Axes>"
            ],
            "image/png": "[encoded data removed]"
          },
          "metadata": {
            "needs_background": "light"
          }
        }
      ]
    },
    {
      "cell_type": "markdown",
      "source": [
        "**After Analysing state column ,we can say that CA,NJ,TX,MD,SC,MI \n",
        "have the most churn rate of more than 21.\n",
        "The reason for this churn rate from a particular state can be due to low coverage of the cellular network.**"
      ],
      "metadata": {
        "id": "9xoj7Hz8acf9"
      }
    },
    {
      "cell_type": "code",
      "source": [
        "df['State'].nunique()"
      ],
      "metadata": {
        "id": "mdQ7AcoThKpK",
        "colab": {
          "base_uri": "https://localhost:8080/"
        },
        "outputId": "2e1fda72-f53e-4c68-ada1-dbf094e526d7"
      },
      "execution_count": null,
      "outputs": [
        {
          "output_type": "execute_result",
          "data": {
            "text/plain": [
              "51"
            ]
          },
          "metadata": {},
          "execution_count": 30
        }
      ]
    },
    {
      "cell_type": "code",
      "source": [
        "#The graph shows the state wise churn \n",
        "sb.set(style=\"dark\")\n",
        "plt.figure(figsize=(15,8))\n",
        "ax=sb.countplot(x='State',hue='Churn',data=df)\n",
        "plt.show()"
      ],
      "metadata": {
        "id": "EyHq9iw-geDA",
        "colab": {
          "base_uri": "https://localhost:8080/",
          "height": 503
        },
        "outputId": "7a5799fe-2f28-401d-d835-1e075d7036fd"
      },
      "execution_count": null,
      "outputs": [
        {
          "output_type": "display_data",
          "data": {
            "text/plain": [
              "<Figure size 1080x576 with 1 Axes>"
            ],
            "image/png": "[encoded data removed]"
          },
          "metadata": {}
        }
      ]
    },
    {
      "cell_type": "markdown",
      "source": [
        "#Analysis 'Area code' column \n"
      ],
      "metadata": {
        "id": "8UbAa3mA9Dlc"
      }
    },
    {
      "cell_type": "code",
      "source": [
        "#calculate Area code with churn percentage\n",
        "Area_code_data=pd.crosstab(df[\"Area code\"],df[\"Churn\"])\n",
        "Area_code_data['percentage_churn']=Area_code_data.apply(lambda x : x[1]*100/(x[0]+x[1]),axis=1)\n",
        "print(Area_code_data)\n"
      ],
      "metadata": {
        "id": "CKs1jiswAU8y",
        "colab": {
          "base_uri": "https://localhost:8080/"
        },
        "outputId": "ed56b905-dd45-44cb-8abc-79275489e0bf"
      },
      "execution_count": null,
      "outputs": [
        {
          "output_type": "stream",
          "name": "stdout",
          "text": [
            "Churn      False  True  percentage_churn\n",
            "Area code                               \n",
            "408          716   122         14.558473\n",
            "415         1419   236         14.259819\n",
            "510          715   125         14.880952\n"
          ]
        }
      ]
    },
    {
      "cell_type": "code",
      "source": [
        "\n",
        "sb.set(style=('darkgrid'))\n",
        "plt.figure(figsize=(10,5))\n",
        "ax=sb.countplot(x='Area code',hue='Churn',data=df)\n",
        "plt.show()"
      ],
      "metadata": {
        "id": "yVt8gNg1oXi_",
        "colab": {
          "base_uri": "https://localhost:8080/",
          "height": 339
        },
        "outputId": "a946e69f-34b2-47b8-a1c9-e431525d0c3a"
      },
      "execution_count": null,
      "outputs": [
        {
          "output_type": "display_data",
          "data": {
            "text/plain": [
              "<Figure size 720x360 with 1 Axes>"
            ],
            "image/png": "[encoded data removed]"
          },
          "metadata": {}
        }
      ]
    },
    {
      "cell_type": "markdown",
      "source": [
        "\n",
        "\n",
        "In the above data, we can see there is only 3 common area code and there churn rate is almost same . we don't think there is any relation between area code and churn due to customer leaves the operator."
      ],
      "metadata": {
        "id": "WyeF6nFfC1bC"
      }
    },
    {
      "cell_type": "markdown",
      "source": [
        "#Analyzing \"International plan\" column"
      ],
      "metadata": {
        "id": "JqoZkB2GshAY"
      }
    },
    {
      "cell_type": "code",
      "source": [
        "#show count value 'yes','no'\n",
        "df['International plan'].value_counts()"
      ],
      "metadata": {
        "id": "kHox4-thsu8_",
        "colab": {
          "base_uri": "https://localhost:8080/"
        },
        "outputId": "2454fb7d-866a-4d10-a9b7-88be75f76e1e"
      },
      "execution_count": null,
      "outputs": [
        {
          "output_type": "execute_result",
          "data": {
            "text/plain": [
              "No     3010\n",
              "Yes     323\n",
              "Name: International plan, dtype: int64"
            ]
          },
          "metadata": {},
          "execution_count": 34
        }
      ]
    },
    {
      "cell_type": "code",
      "source": [
        "#calculate the International plan and churn percentage\n",
        "International_plan_data=pd.crosstab(df[\"International plan\"],df[\"Churn\"])\n",
        "International_plan_data['percentage Churn']=International_plan_data.apply(lambda x : x[1]*100/(x[0]+x[1]),axis=1)\n",
        "print(International_plan_data)"
      ],
      "metadata": {
        "id": "0dQYpQm4tQ2p",
        "colab": {
          "base_uri": "https://localhost:8080/"
        },
        "outputId": "a3c9ecbd-a8a8-4d05-caff-f2727f55bc9c"
      },
      "execution_count": null,
      "outputs": [
        {
          "output_type": "stream",
          "name": "stdout",
          "text": [
            "Churn               False  True  percentage Churn\n",
            "International plan                               \n",
            "No                   2664   346         11.495017\n",
            "Yes                   186   137         42.414861\n"
          ]
        }
      ]
    },
    {
      "cell_type": "code",
      "source": [
        "# Donut plot to Analyze the International plan.\n",
        "# In the graph the skyblue part shows the percentage of customers have international plan and red part shows who don't have international plan. \n",
        "data=df['International plan'].value_counts()\n",
        "explode=(0,0.2)\n",
        "plt.pie(data,explode=explode,autopct='%1.1f%%',shadow=True,radius=2.0,labels=['Yes','No'],colors=['skyblue','red'])\n",
        "circle = plt.Circle((0,0),1,color='white')\n",
        "p=plt.gcf()\n",
        "p.gca().add_artist(circle)\n",
        "plt.title('graph for International plan')\n",
        "plt.show()"
      ],
      "metadata": {
        "id": "p0PQglIQyolb",
        "colab": {
          "base_uri": "https://localhost:8080/",
          "height": 647
        },
        "outputId": "2f7707f0-b2db-48fc-bcee-66f202f4aa7b"
      },
      "execution_count": null,
      "outputs": [
        {
          "output_type": "display_data",
          "data": {
            "text/plain": [
              "<Figure size 864x504 with 1 Axes>"
            ],
            "image/png": "[encoded data removed]"
          },
          "metadata": {}
        }
      ]
    },
    {
      "cell_type": "markdown",
      "source": [
        "As conclusion from this analysis, we can see that the number of customers with international plans is 325, however when 137 of those customers cancel the service, the churn rate is very high at 42.4148614%."
      ],
      "metadata": {
        "id": "sunrnJ6tvLeV"
      }
    },
    {
      "cell_type": "markdown",
      "source": [
        "#Analyzing Customer Service calls"
      ],
      "metadata": {
        "id": "GuZ_XSbyWGpP"
      }
    },
    {
      "cell_type": "code",
      "source": [
        "#\n",
        "((df.groupby(['Customer service calls'])['Churn'].mean())*100).sort_values(ascending = False).plot.line(color='b', marker='o', linewidth=1, markersize=5,figsize=(5,5))"
      ],
      "metadata": {
        "id": "0y9R3aBeORP8",
        "colab": {
          "base_uri": "https://localhost:8080/",
          "height": 357
        },
        "outputId": "545e10bd-fc7f-4cce-c2ec-8905d420c258"
      },
      "execution_count": null,
      "outputs": [
        {
          "output_type": "execute_result",
          "data": {
            "text/plain": [
              "<matplotlib.axes._subplots.AxesSubplot at 0x7fa3da6b58d0>"
            ]
          },
          "metadata": {},
          "execution_count": 37
        },
        {
          "output_type": "display_data",
          "data": {
            "text/plain": [
              "<Figure size 360x360 with 1 Axes>"
            ],
            "image/png": "[encoded data removed]"
          },
          "metadata": {}
        }
      ]
    },
    {
      "cell_type": "code",
      "source": [
        "#Count of churned accounts With respect to customer service calls \n",
        "sb.countplot(x='Customer service calls',hue=\"Churn\",data=df)"
      ],
      "metadata": {
        "id": "tCtTRW0gUt8J",
        "colab": {
          "base_uri": "https://localhost:8080/",
          "height": 466
        },
        "outputId": "a9c65335-7ed2-4711-eaf1-0145e0d2e92f"
      },
      "execution_count": null,
      "outputs": [
        {
          "output_type": "execute_result",
          "data": {
            "text/plain": [
              "<matplotlib.axes._subplots.AxesSubplot at 0x7fa3da846f50>"
            ]
          },
          "metadata": {},
          "execution_count": 38
        },
        {
          "output_type": "display_data",
          "data": {
            "text/plain": [
              "<Figure size 864x504 with 1 Axes>"
            ],
            "image/png": "[encoded data removed]"
          },
          "metadata": {}
        }
      ]
    },
    {
      "cell_type": "markdown",
      "source": [
        " It is observed from the above analysis that, mostly because of bad customer service, people tend to leave the operator.\n",
        "\n",
        "The above data indicating that those customers who called the service center 5 times or above those customer churn percentage is higher than 60%,\n",
        "\n",
        "And customers who have called once also have a high churn rate indicating their issue was not solved in the first attempt.\n",
        "\n",
        "So operator should work to improve the service call**"
      ],
      "metadata": {
        "id": "9vsPfvMaZXbe"
      }
    },
    {
      "cell_type": "code",
      "source": [
        "# Getting the headings of each column in dataset\n",
        "\n",
        "df.columns"
      ],
      "metadata": {
        "id": "8WK5t5D6YdC_",
        "colab": {
          "base_uri": "https://localhost:8080/"
        },
        "outputId": "2aa1ca47-1682-4ed9-ea9d-62ecaeb019bb"
      },
      "execution_count": null,
      "outputs": [
        {
          "output_type": "execute_result",
          "data": {
            "text/plain": [
              "Index(['State', 'Account length', 'Area code', 'International plan',\n",
              "       'Voice mail plan', 'Number vmail messages', 'Total day minutes',\n",
              "       'Total day calls', 'Total day charge', 'Total eve minutes',\n",
              "       'Total eve calls', 'Total eve charge', 'Total night minutes',\n",
              "       'Total night calls', 'Total night charge', 'Total intl minutes',\n",
              "       'Total intl calls', 'Total intl charge', 'Customer service calls',\n",
              "       'Churn'],\n",
              "      dtype='object')"
            ]
          },
          "metadata": {},
          "execution_count": 39
        }
      ]
    },
    {
      "cell_type": "markdown",
      "source": [
        "## **Analyzing Voice mail column**"
      ],
      "metadata": {
        "id": "E3Ayi6V4mgMe"
      }
    },
    {
      "cell_type": "code",
      "source": [
        "sb.countplot(x='Voice mail plan',hue='Churn',data=df)"
      ],
      "metadata": {
        "colab": {
          "base_uri": "https://localhost:8080/",
          "height": 296
        },
        "id": "eKrL0TU5mUAm",
        "outputId": "e3531c48-5afa-4dc9-8b03-54208d367f5d"
      },
      "execution_count": null,
      "outputs": [
        {
          "output_type": "execute_result",
          "data": {
            "text/plain": [
              "<matplotlib.axes._subplots.AxesSubplot at 0x7fed6bfe8b10>"
            ]
          },
          "metadata": {},
          "execution_count": 3
        },
        {
          "output_type": "display_data",
          "data": {
            "text/plain": [
              "<Figure size 432x288 with 1 Axes>"
            ],
            "image/png": "[encoded data removed]"
          },
          "metadata": {
            "needs_background": "light"
          }
        }
      ]
    },
    {
      "cell_type": "markdown",
      "source": [
        "After analyzing the above voice mail feature data we get an insight that when there are more than 20 voice-mail messages then there is a churn\n",
        "\n",
        "For that, we need to improve the voice mail quality."
      ],
      "metadata": {
        "id": "ttUla7LRoCnv"
      }
    },
    {
      "cell_type": "markdown",
      "source": [
        "# Analyzing the Total day calls,Total evening calls, and night calls"
      ],
      "metadata": {
        "id": "ho71eBtYxSzZ"
      }
    },
    {
      "cell_type": "code",
      "source": [
        "# Outlier Analysis of Total day, eve, night calls \n",
        "\n",
        "attributes = ['Total day calls','Total eve calls','Total night calls',]\n",
        "plt.rcParams['figure.figsize'] = [10,8]\n",
        "sb.boxplot(data = df[attributes], orient=\"v\", palette=\"Set2\" ,whis=1.5,saturation=1, width=0.7)\n",
        "plt.title(\"Comparative analysis of calls during different times of the day\", fontsize = 14, fontweight = 'bold')\n",
        "plt.ylabel(\"Range of number of calls\", fontweight = 'bold')\n",
        "plt.xlabel(\"Time of Calling\", fontweight = 'bold')"
      ],
      "metadata": {
        "id": "hi8AXaH9mZmi",
        "colab": {
          "base_uri": "https://localhost:8080/",
          "height": 531
        },
        "outputId": "2e8a5d8b-a028-4378-bf5e-4e623c933447"
      },
      "execution_count": null,
      "outputs": [
        {
          "output_type": "execute_result",
          "data": {
            "text/plain": [
              "Text(0.5, 0, 'Time of Calling')"
            ]
          },
          "metadata": {},
          "execution_count": 5
        },
        {
          "output_type": "display_data",
          "data": {
            "text/plain": [
              "<Figure size 720x576 with 1 Axes>"
            ],
            "image/png": "[encoded data removed]"
          },
          "metadata": {
            "needs_background": "light"
          }
        }
      ]
    },
    {
      "cell_type": "code",
      "source": [
        "df.rename(columns = {'Total day calls':'Total_day_calls', 'Total eve calls':'Total_eve_calls', 'Total night calls':'Total_night_calls'}, inplace = True)\n"
      ],
      "metadata": {
        "id": "YHjHSKpGqqOq"
      },
      "execution_count": null,
      "outputs": []
    },
    {
      "cell_type": "code",
      "source": [
        "# Removing (statistical) outliers for total calls\n",
        "\n",
        "Q1 = df.Total_night_calls.quantile(0.05)\n",
        "Q3 = df.Total_night_calls.quantile(0.95)\n",
        "IQR = Q3 - Q1\n",
        "df = df[(df.Total_night_calls >= Q1 - 1.5*IQR) & (df.Total_night_calls <= Q3 + 1.5*IQR)]\n",
        "\n",
        "Q1 = df.Total_eve_calls.quantile(0.05)\n",
        "Q3 = df.Total_eve_calls.quantile(0.95)\n",
        "IQR = Q3 - Q1\n",
        "df = df[(df.Total_eve_calls >= Q1 - 1.5*IQR) & (df.Total_eve_calls <= Q3 + 1.5*IQR)]\n",
        "\n",
        "Q1 = df.Total_day_calls.quantile(0.05)\n",
        "Q3 = df.Total_day_calls.quantile(0.95)\n",
        "IQR = Q3 - Q1\n",
        "df = df[(df.Total_day_calls >= Q1 - 1.5*IQR) & (df.Total_day_calls <= Q3 + 1.5*IQR)]"
      ],
      "metadata": {
        "id": "LAVVOmbDqsvy"
      },
      "execution_count": null,
      "outputs": []
    },
    {
      "cell_type": "code",
      "source": [
        "# Rescaling the attributes\n",
        "\n",
        "df_df = df[['Total_day_calls','Total_eve_calls', 'Total_night_calls']]\n",
        "\n",
        "# Instantiate\n",
        "scaler = StandardScaler()\n",
        "\n",
        "# fit_transform\n",
        "df_df_scaled = scaler.fit_transform(df_df)\n",
        "df_df_scaled.shape"
      ],
      "metadata": {
        "id": "tZk584NcrNgU",
        "colab": {
          "base_uri": "https://localhost:8080/"
        },
        "outputId": "e79e7eb0-4df9-417c-f571-ccf0b58ab8d3"
      },
      "execution_count": null,
      "outputs": [
        {
          "output_type": "execute_result",
          "data": {
            "text/plain": [
              "(3333, 3)"
            ]
          },
          "metadata": {},
          "execution_count": 8
        }
      ]
    },
    {
      "cell_type": "code",
      "source": [
        "df_df_scaled = pd.DataFrame(df_df_scaled)\n",
        "df_df_scaled.columns = ['Total_day_calls','Total_eve_calls', 'Total_night_calls']\n",
        "df_df_scaled.head()"
      ],
      "metadata": {
        "id": "Coint6mYrOq5",
        "colab": {
          "base_uri": "https://localhost:8080/",
          "height": 206
        },
        "outputId": "3facb174-1e34-4802-dbe9-67d69c2700c7"
      },
      "execution_count": null,
      "outputs": [
        {
          "output_type": "execute_result",
          "data": {
            "text/plain": [
              "   Total_day_calls  Total_eve_calls  Total_night_calls\n",
              "0         0.476643        -0.055940          -0.465494\n",
              "1         1.124503         0.144867           0.147825\n",
              "2         0.675985         0.496279           0.198935\n",
              "3        -1.466936        -0.608159          -0.567714\n",
              "4         0.626149         1.098699           1.067803"
            ],
            "text/html": [
              "\n",
              "  <div id=\"df-2b7750f5-d234-41a0-ad9a-707ec157b0de\">\n",
              "    <div class=\"colab-df-container\">\n",
              "      <div>\n",
              "<style scoped>\n",
              "    .dataframe tbody tr th:only-of-type {\n",
              "        vertical-align: middle;\n",
              "    }\n",
              "\n",
              "    .dataframe tbody tr th {\n",
              "        vertical-align: top;\n",
              "    }\n",
              "\n",
              "    .dataframe thead th {\n",
              "        text-align: right;\n",
              "    }\n",
              "</style>\n",
              "<table border=\"1\" class=\"dataframe\">\n",
              "  <thead>\n",
              "    <tr style=\"text-align: right;\">\n",
              "      <th></th>\n",
              "      <th>Total_day_calls</th>\n",
              "      <th>Total_eve_calls</th>\n",
              "      <th>Total_night_calls</th>\n",
              "    </tr>\n",
              "  </thead>\n",
              "  <tbody>\n",
              "    <tr>\n",
              "      <th>0</th>\n",
              "      <td>0.476643</td>\n",
              "      <td>-0.055940</td>\n",
              "      <td>-0.465494</td>\n",
              "    </tr>\n",
              "    <tr>\n",
              "      <th>1</th>\n",
              "      <td>1.124503</td>\n",
              "      <td>0.144867</td>\n",
              "      <td>0.147825</td>\n",
              "    </tr>\n",
              "    <tr>\n",
              "      <th>2</th>\n",
              "      <td>0.675985</td>\n",
              "      <td>0.496279</td>\n",
              "      <td>0.198935</td>\n",
              "    </tr>\n",
              "    <tr>\n",
              "      <th>3</th>\n",
              "      <td>-1.466936</td>\n",
              "      <td>-0.608159</td>\n",
              "      <td>-0.567714</td>\n",
              "    </tr>\n",
              "    <tr>\n",
              "      <th>4</th>\n",
              "      <td>0.626149</td>\n",
              "      <td>1.098699</td>\n",
              "      <td>1.067803</td>\n",
              "    </tr>\n",
              "  </tbody>\n",
              "</table>\n",
              "</div>\n",
              "      <button class=\"colab-df-convert\" onclick=\"convertToInteractive('df-2b7750f5-d234-41a0-ad9a-707ec157b0de')\"\n",
              "              title=\"Convert this dataframe to an interactive table.\"\n",
              "              style=\"display:none;\">\n",
              "        \n",
              "  <svg xmlns=\"http://www.w3.org/2000/svg\" height=\"24px\"viewBox=\"0 0 24 24\"\n",
              "       width=\"24px\">\n",
              "    <path d=\"M0 0h24v24H0V0z\" fill=\"none\"/>\n",
              "    <path d=\"M18.56 5.44l.94 2.06.94-2.06 2.06-.94-2.06-.94-.94-2.06-.94 2.06-2.06.94zm-11 1L8.5 8.5l.94-2.06 2.06-.94-2.06-.94L8.5 2.5l-.94 2.06-2.06.94zm10 10l.94 2.06.94-2.06 2.06-.94-2.06-.94-.94-2.06-.94 2.06-2.06.94z\"/><path d=\"M17.41 7.96l-1.37-1.37c-.4-.4-.92-.59-1.43-.59-.52 0-1.04.2-1.43.59L10.3 9.45l-7.72 7.72c-.78.78-.78 2.05 0 2.83L4 21.41c.39.39.9.59 1.41.59.51 0 1.02-.2 1.41-.59l7.78-7.78 2.81-2.81c.8-.78.8-2.07 0-2.86zM5.41 20L4 18.59l7.72-7.72 1.47 1.35L5.41 20z\"/>\n",
              "  </svg>\n",
              "      </button>\n",
              "      \n",
              "  <style>\n",
              "    .colab-df-container {\n",
              "      display:flex;\n",
              "      flex-wrap:wrap;\n",
              "      gap: 12px;\n",
              "    }\n",
              "\n",
              "    .colab-df-convert {\n",
              "      background-color: #E8F0FE;\n",
              "      border: none;\n",
              "      border-radius: 50%;\n",
              "      cursor: pointer;\n",
              "      display: none;\n",
              "      fill: #1967D2;\n",
              "      height: 32px;\n",
              "      padding: 0 0 0 0;\n",
              "      width: 32px;\n",
              "    }\n",
              "\n",
              "    .colab-df-convert:hover {\n",
              "      background-color: #E2EBFA;\n",
              "      box-shadow: 0px 1px 2px rgba(60, 64, 67, 0.3), 0px 1px 3px 1px rgba(60, 64, 67, 0.15);\n",
              "      fill: #174EA6;\n",
              "    }\n",
              "\n",
              "    [theme=dark] .colab-df-convert {\n",
              "      background-color: #3B4455;\n",
              "      fill: #D2E3FC;\n",
              "    }\n",
              "\n",
              "    [theme=dark] .colab-df-convert:hover {\n",
              "      background-color: #434B5C;\n",
              "      box-shadow: 0px 1px 3px 1px rgba(0, 0, 0, 0.15);\n",
              "      filter: drop-shadow(0px 1px 2px rgba(0, 0, 0, 0.3));\n",
              "      fill: #FFFFFF;\n",
              "    }\n",
              "  </style>\n",
              "\n",
              "      <script>\n",
              "        const buttonEl =\n",
              "          document.querySelector('#df-2b7750f5-d234-41a0-ad9a-707ec157b0de button.colab-df-convert');\n",
              "        buttonEl.style.display =\n",
              "          google.colab.kernel.accessAllowed ? 'block' : 'none';\n",
              "\n",
              "        async function convertToInteractive(key) {\n",
              "          const element = document.querySelector('#df-2b7750f5-d234-41a0-ad9a-707ec157b0de');\n",
              "          const dataTable =\n",
              "            await google.colab.kernel.invokeFunction('convertToInteractive',\n",
              "                                                     [key], {});\n",
              "          if (!dataTable) return;\n",
              "\n",
              "          const docLinkHtml = 'Like what you see? Visit the ' +\n",
              "            '<a target=\"_blank\" href=https://colab.research.google.com/notebooks/data_table.ipynb>data table notebook</a>'\n",
              "            + ' to learn more about interactive tables.';\n",
              "          element.innerHTML = '';\n",
              "          dataTable['output_type'] = 'display_data';\n",
              "          await google.colab.output.renderOutput(dataTable, element);\n",
              "          const docLink = document.createElement('div');\n",
              "          docLink.innerHTML = docLinkHtml;\n",
              "          element.appendChild(docLink);\n",
              "        }\n",
              "      </script>\n",
              "    </div>\n",
              "  </div>\n",
              "  "
            ]
          },
          "metadata": {},
          "execution_count": 9
        }
      ]
    },
    {
      "cell_type": "code",
      "source": [
        "# Visualize the result\n",
        "\n",
        "df[\"Churn\"] = df[\"Churn\"].astype(str) \n",
        "fig = px.scatter_3d(df, x='Total_day_calls', y='Total_eve_calls', z='Total_night_calls',\n",
        "              color='Churn')\n",
        "fig.show()"
      ],
      "metadata": {
        "id": "cgrvfUPLrSma",
        "colab": {
          "base_uri": "https://localhost:8080/",
          "height": 542
        },
        "outputId": "6a067772-9e9d-421d-88a2-6844dac0cd39"
      },
      "execution_count": null,
      "outputs": [
        {
          "output_type": "display_data",
          "data": {
            "text/html": [
              "<html>\n",
              "<head><meta charset=\"utf-8\" /></head>\n",
              "<body>\n",
              "    <div>            <script src=\"https://cdnjs.cloudflare.com/ajax/libs/mathjax/2.7.5/MathJax.js?config=TeX-AMS-MML_SVG\"></script><script type=\"text/javascript\">if (window.MathJax) {MathJax.Hub.Config({SVG: {font: \"STIX-Web\"}});}</script>                <script type=\"text/javascript\">window.PlotlyConfig = {MathJaxConfig: 'local'};</script>\n",
              "        <script src=\"https://cdn.plot.ly/plotly-2.8.3.min.js\"></script>                <div id=\"face6442-383e-48e9-b4f8-9dfe033ebd6f\" class=\"plotly-graph-div\" style=\"height:525px; width:100%;\"></div>            <script type=\"text/javascript\">                                    window.PLOTLYENV=window.PLOTLYENV || {};                                    if (document.getElementById(\"face6442-383e-48e9-b4f8-9dfe033ebd6f\")) {                    Plotly.newPlot(                        \"face6442-383e-48e9-b4f8-9dfe033ebd6f\",                        [{\"hovertemplate\":\"Churn=False<br>Total_day_calls=%{x}<br>Total_eve_calls=%{y}<br>Total_night_calls=%{z}<extra></extra>\",\"legendgroup\":\"False\",\"marker\":{\"color\":\"#636efa\",\"symbol\":\"circle\"},\"mode\":\"markers\",\"name\":\"False\",\"scene\":\"scene\",\"showlegend\":true,\"x\":[110,123,114,71,113,98,88,79,97,84,127,96,88,70,139,114,66,90,117,112,103,86,76,115,73,109,117,95,105,121,94,80,128,64,106,94,102,82,77,67,97,120,133,135,108,57,112,117,67,98,70,103,97,83,91,92,98,74,105,93,70,93,97,83,146,109,90,72,98,99,104,123,101,104,118,104,61,100,93,71,106,110,87,114,137,82,99,94,65,102,131,91,90,100,117,117,108,125,83,117,125,92,102,103,124,119,52,90,115,92,125,115,96,109,112,97,106,117,101,115,68,107,47,101,91,87,121,97,99,119,116,112,115,116,129,117,124,97,110,99,103,151,92,126,102,124,87,105,91,87,87,92,104,91,103,93,122,125,111,98,68,145,74,71,111,109,85,109,74,118,52,86,119,64,146,101,86,109,105,76,98,94,95,112,72,100,131,139,93,89,80,121,116,114,112,113,97,111,85,78,136,84,110,96,97,140,103,117,148,86,89,77,81,107,102,94,85,114,91,90,101,117,126,122,118,79,110,88,103,110,55,79,94,89,104,123,105,121,78,104,90,103,88,85,135,97,93,115,74,108,90,122,88,88,121,110,112,86,115,83,117,129,98,80,106,117,109,101,128,102,69,136,99,158,105,66,96,79,79,107,134,91,104,95,109,130,97,98,99,95,97,70,121,104,67,115,105,98,92,131,117,117,122,104,78,112,95,105,89,85,122,109,83,121,87,88,96,127,110,99,81,110,98,77,113,87,123,100,118,107,87,82,125,113,64,102,95,99,125,129,92,76,89,102,129,105,124,108,122,80,91,78,108,110,90,80,85,112,77,84,73,98,126,114,122,124,110,131,129,65,91,69,98,77,106,101,80,123,93,99,141,93,114,129,107,103,116,100,114,79,107,107,115,77,88,99,86,120,128,109,109,75,85,103,163,63,146,116,117,101,111,106,112,134,102,108,123,116,95,132,111,103,100,126,119,119,104,93,114,134,93,91,102,104,138,97,66,88,69,102,94,101,74,137,100,68,92,97,108,84,108,105,125,88,126,133,110,77,112,61,117,97,101,88,93,126,113,94,77,109,90,106,54,63,111,103,80,84,77,110,97,103,107,88,106,104,76,97,73,88,108,107,92,88,90,74,112,76,108,77,109,75,102,97,85,81,105,96,85,111,138,95,70,68,80,62,89,109,95,144,119,107,94,55,120,83,108,110,111,138,119,107,89,88,68,140,110,91,105,119,107,112,97,104,129,84,105,106,94,83,92,120,92,79,114,112,74,91,122,81,100,143,65,126,147,101,102,103,70,80,126,95,110,120,102,135,108,109,117,106,99,90,101,134,99,110,90,100,98,94,90,113,76,101,105,104,111,119,36,110,91,98,94,104,89,86,110,95,110,104,95,81,78,97,111,81,70,114,104,101,70,130,116,124,88,88,96,109,103,100,116,111,122,98,121,94,123,110,98,123,72,40,133,112,126,122,97,85,102,120,119,80,116,94,88,105,76,88,108,99,88,84,128,78,124,83,97,150,93,104,54,112,99,107,133,54,107,100,104,138,87,124,83,70,82,97,79,88,86,108,118,84,89,113,115,96,102,88,86,73,87,120,89,76,94,118,89,96,103,115,78,92,127,133,99,110,110,74,104,105,82,117,147,56,86,107,116,75,100,93,79,78,112,114,58,81,88,98,101,79,91,110,91,96,73,135,133,90,94,111,145,132,71,108,114,128,72,89,114,150,79,109,107,128,107,78,66,96,82,82,113,84,85,108,124,75,113,112,72,91,91,118,113,106,132,113,114,61,90,95,83,89,95,80,91,129,122,74,97,67,110,113,51,121,107,134,134,127,117,139,104,106,68,87,87,88,107,121,127,90,137,81,88,107,88,75,83,124,129,89,86,93,123,109,73,69,97,100,106,81,95,75,130,130,147,68,122,95,90,90,90,77,70,94,85,106,105,112,102,117,150,118,97,104,99,107,108,101,91,80,109,84,91,88,101,117,92,91,57,111,83,130,111,93,125,96,117,132,74,72,91,99,87,65,129,94,114,82,108,85,111,80,74,77,80,89,77,112,112,104,109,115,129,87,107,72,112,118,67,116,107,109,101,158,125,72,97,101,71,127,114,82,140,97,119,108,92,122,88,77,106,81,119,112,88,150,115,101,97,97,72,115,79,100,86,95,87,121,105,120,78,121,127,95,104,96,78,93,115,97,104,112,115,100,93,98,85,95,122,116,106,79,98,85,75,103,78,104,103,62,94,109,84,87,97,81,108,108,74,113,30,129,117,123,110,76,94,89,105,110,117,123,110,122,70,55,78,107,117,94,106,95,101,108,104,88,81,113,98,78,89,108,54,101,92,89,82,122,92,92,94,122,106,56,63,63,97,117,80,86,78,90,92,96,106,90,112,65,93,127,67,85,132,102,88,140,84,92,87,83,96,98,93,91,97,84,101,139,109,77,71,71,115,56,109,79,118,116,107,90,122,92,120,83,66,108,105,132,105,93,97,121,65,115,83,95,107,76,105,79,130,127,112,115,102,76,102,62,116,118,90,138,107,96,123,132,108,95,99,118,107,106,106,76,61,110,112,123,111,130,127,78,92,135,119,123,92,123,130,100,113,103,80,98,102,105,60,117,112,119,145,91,121,107,109,114,124,85,79,86,101,71,80,117,98,107,121,105,91,103,93,120,84,89,102,76,122,115,118,66,131,127,75,125,102,90,129,112,134,96,115,119,110,107,113,108,116,98,96,127,62,105,118,107,121,110,124,0,87,116,90,88,86,120,113,139,104,95,91,84,60,78,90,89,121,74,101,95,81,45,117,77,148,84,108,117,130,70,107,75,107,150,117,118,99,115,97,102,82,99,104,104,105,110,101,100,137,136,111,95,120,113,94,88,160,78,107,93,85,120,108,102,79,95,99,120,89,112,62,102,122,92,102,79,93,91,87,104,94,84,120,107,110,126,85,136,120,101,102,104,86,88,116,94,117,120,74,84,74,105,82,91,100,114,99,96,70,78,91,136,83,100,89,113,108,112,94,111,102,79,112,100,92,105,68,98,92,111,103,80,94,106,110,93,79,92,143,68,100,91,110,106,69,76,95,126,69,113,96,104,100,134,78,99,80,85,90,123,97,110,140,96,92,73,136,77,111,119,55,107,106,108,92,102,86,93,77,113,110,127,90,73,102,113,94,99,96,73,89,87,114,95,125,108,103,102,149,83,140,115,121,115,81,74,145,144,65,113,101,114,104,93,95,99,77,92,104,74,112,94,79,86,78,130,87,102,132,79,80,93,91,96,104,93,125,82,85,99,123,87,105,96,83,95,96,119,116,97,93,91,93,107,88,56,80,107,89,143,127,100,113,107,85,133,117,96,105,113,83,68,93,116,73,66,87,110,102,152,97,124,96,123,87,86,108,48,104,123,121,105,70,101,68,95,91,130,114,124,87,94,94,110,82,107,142,92,110,106,127,105,100,102,124,77,101,64,86,101,112,125,92,79,81,103,132,82,127,83,97,76,97,104,69,91,119,90,115,111,102,87,121,90,95,65,80,110,103,78,105,84,102,103,100,104,103,148,119,83,147,82,98,119,140,82,84,99,94,78,83,108,106,96,67,140,82,90,116,97,87,87,95,115,110,102,119,93,117,73,138,144,85,138,134,106,102,110,107,113,91,109,115,97,91,80,91,131,102,116,115,98,75,77,60,110,133,93,123,101,89,99,129,79,105,113,100,66,118,105,104,140,110,114,60,89,78,100,103,120,99,102,105,132,126,82,102,104,127,70,130,93,85,123,118,104,86,92,124,98,99,118,65,73,96,105,109,123,77,120,103,87,79,126,75,92,118,79,133,105,102,79,97,63,121,107,101,110,132,106,106,93,133,73,96,112,100,96,70,35,88,123,77,96,96,119,128,120,97,116,87,95,100,86,102,96,88,112,110,151,98,111,82,81,113,118,113,104,109,78,112,67,106,93,129,109,138,76,72,128,133,89,115,121,84,125,61,61,117,132,133,98,125,102,118,79,121,92,101,97,101,92,87,58,118,112,104,122,65,55,91,95,121,91,121,131,114,116,107,137,108,101,72,107,106,83,76,110,69,99,84,107,104,65,97,66,111,122,88,53,112,113,95,108,82,82,87,100,100,93,85,71,96,84,108,78,95,117,59,112,85,98,96,70,77,137,99,49,138,108,105,102,64,105,109,78,108,134,102,83,106,121,80,126,116,99,105,83,86,82,103,89,94,114,65,125,89,85,97,121,68,58,121,88,128,102,130,101,116,143,107,117,106,130,81,92,98,72,54,67,105,105,142,128,72,99,106,120,95,122,78,121,67,111,107,42,107,72,103,109,108,80,93,100,92,92,95,141,104,88,96,112,65,95,108,80,115,88,108,84,129,70,116,105,85,133,83,121,112,97,116,109,95,87,114,85,76,137,97,88,102,88,102,86,95,102,98,70,100,71,138,61,86,106,57,71,75,105,105,112,74,54,87,112,78,100,96,80,109,92,100,94,107,100,123,120,98,120,53,112,89,102,104,57,111,105,52,107,110,133,105,109,56,116,84,104,96,115,101,102,90,84,97,107,119,78,83,71,107,105,98,101,96,102,116,151,102,71,51,94,92,90,107,98,118,84,73,122,85,114,83,111,95,109,106,123,107,122,92,80,107,93,100,78,102,87,158,96,157,86,99,99,70,94,109,80,59,76,119,102,88,58,91,141,99,120,98,113,97,82,121,104,88,99,104,114,65,79,96,113,120,115,104,121,89,70,79,90,123,119,117,120,107,93,103,145,74,120,126,99,96,95,98,82,109,93,90,96,146,124,87,87,115,74,133,111,80,106,114,67,117,127,95,93,114,135,125,112,45,135,91,116,62,59,110,95,66,114,131,96,105,107,125,98,105,119,115,95,125,117,115,70,116,101,105,76,142,116,121,57,93,102,93,122,134,98,99,86,80,82,121,123,113,121,72,117,112,134,119,56,91,107,100,101,80,133,114,81,67,130,69,92,65,87,92,81,98,100,62,121,105,92,106,107,90,90,78,78,122,106,113,99,130,95,100,120,92,88,80,120,107,93,89,126,100,124,90,98,130,102,88,102,140,98,137,113,138,105,85,119,51,85,126,148,91,108,126,106,94,92,82,116,111,99,140,99,114,85,114,145,114,100,112,117,103,85,73,122,73,84,130,96,123,86,84,91,97,108,92,117,109,96,69,82,62,77,84,98,93,95,117,83,97,92,81,95,113,82,89,91,84,108,121,133,89,128,105,58,134,101,138,116,93,94,104,125,110,103,127,82,95,111,94,125,71,93,137,114,107,113,143,90,116,122,142,94,124,115,108,84,116,97,94,101,86,88,79,106,59,136,129,116,90,104,88,99,126,100,85,81,65,68,81,117,89,119,150,95,74,101,114,74,99,89,110,106,131,104,142,132,82,68,87,99,114,108,105,126,100,104,77,106,66,122,95,80,77,114,91,113,122,101,94,80,78,110,108,90,144,91,130,80,115,119,70,88,110,98,110,101,100,98,123,101,102,122,128,109,126,112,124,96,88,77,123,125,80,90,125,102,102,128,83,114,100,89,98,67,77,61,92,123,68,108,98,49,44,88,130,141,104,98,80,112,98,99,130,94,90,115,106,94,103,100,122,67,102,78,87,89,92,119,126,87,89,112,117,88,67,98,62,104,106,84,109,68,134,71,63,90,129,102,104,89,96,75,103,73,114,146,113,83,113,111,94,91,65,88,102,134,81,132,54,94,96,72,89,117,100,71,67,106,117,112,87,105,96,109,116,104,73,63,63,114,70,69,109,82,104,78,103,124,145,97,107,97,78,100,89,127,96,92,90,102,80,92,87,89,105,116,96,98,114,116,83,103,115,93,112,137,94,145,103,83,134,101,81,92,81,119,83,111,103,112,126,80,123,108,83,103,98,93,98,137,83,93,98,85,91,114,106,88,61,88,86,95,102,85,63,108,113,55,91,88,127,72,119,98,93,61,93,106,114,121,94,131,101,123,111,61,101,100,92,71,121,116,99,110,125,83,143,100,101,95,77,120,84,119,102,100,110,88,76,74,94,123,83,96,121,139,127,85,95,141,94,112,91,138,100,100,111,117,94,97,111,67,99,95,121,108,97,101,93,70,125,67,71,123,121,128,102,128,102,115,74,100,116,88,130,126,40,111,76,67,86,89,108,107,63,84,98,120,120,101,96,107,123,135,114,134,86,141,79,84,85,100,66,72,76,94,119,145,81,105,81,86,79,89,102,79,96,101,95,140,99,65,111,87,101,85,66,103,105,87,69,105,115,110,115,79,76,73,107,81,98,139,92,121,67,84,108,109,115,114,115,97,85,122,71,96,109,117,105,105,110,128,85,133,106,88,77,84,70,95,94,78,88,127,131,109,87,112,91,94,130,128,81,106,111,90,131,99,118,114,99,128,98,77,57,109,105,113],\"y\":[99,103,110,88,122,101,108,94,80,111,148,71,75,76,90,111,65,88,93,99,102,72,112,112,100,84,109,63,107,115,75,102,80,116,99,92,85,98,110,118,92,122,74,58,96,115,66,67,85,62,164,126,94,142,96,64,97,88,104,119,80,83,84,85,117,94,72,104,102,74,79,95,98,86,76,84,105,107,112,81,113,72,76,83,76,105,106,109,98,76,115,97,121,83,94,113,90,59,109,82,111,77,86,117,95,98,104,123,117,114,86,140,102,128,83,106,113,76,60,84,97,74,84,94,78,126,98,95,125,91,117,118,46,138,96,72,129,108,111,116,122,89,92,133,128,116,90,105,98,101,93,125,125,107,86,76,112,136,94,57,122,135,139,108,126,95,94,104,77,88,111,86,115,106,136,93,94,51,80,77,72,95,70,89,98,103,106,118,98,76,82,98,98,103,96,122,76,94,78,83,92,92,111,126,87,105,128,98,91,116,125,151,63,93,80,58,98,137,109,83,134,82,93,117,86,123,105,112,108,73,113,91,117,78,101,96,117,83,100,96,79,103,85,105,90,108,108,84,100,109,108,102,86,63,99,80,112,113,152,67,58,117,88,81,114,77,114,82,92,112,93,122,107,120,100,114,118,97,105,113,92,121,107,69,112,86,77,135,87,66,90,77,110,94,127,101,85,86,103,120,90,121,107,95,71,132,88,93,80,132,75,103,81,113,138,118,123,108,137,120,114,102,96,99,114,116,108,113,93,96,81,82,90,79,99,83,139,73,89,129,152,100,143,93,112,98,94,89,107,115,115,79,81,117,72,90,117,90,87,106,79,73,126,94,76,77,123,101,108,93,106,92,110,97,101,102,91,96,106,102,99,95,82,121,126,106,138,121,61,118,124,105,105,88,69,64,122,119,104,117,113,87,90,71,121,110,83,87,100,132,42,106,118,98,107,54,104,63,110,101,113,131,139,65,99,132,88,116,63,102,75,109,103,89,111,98,75,65,116,81,101,97,86,72,88,138,100,104,102,109,74,108,90,100,90,143,115,102,89,104,78,123,138,109,92,104,125,108,52,129,135,90,97,117,99,149,94,103,92,89,100,109,84,116,106,84,100,110,117,101,87,116,82,109,89,119,93,95,86,118,90,93,124,134,86,103,87,137,125,137,83,97,79,103,128,111,77,104,131,118,105,56,86,83,106,79,118,115,64,113,121,96,87,111,140,84,125,137,102,109,99,69,94,103,87,73,133,92,95,114,108,106,83,93,99,99,37,127,136,130,52,72,115,106,118,114,101,100,89,93,76,128,123,106,104,74,122,107,125,87,62,81,121,114,68,109,118,82,120,119,93,113,131,126,71,121,101,91,134,104,108,118,97,75,88,114,82,92,102,64,82,64,119,118,98,99,108,98,101,128,105,116,86,110,89,108,127,49,83,110,99,101,101,111,104,103,90,94,78,93,103,58,61,131,86,88,110,128,117,95,119,91,100,59,108,105,92,119,111,113,97,95,100,117,69,96,118,138,78,117,108,95,81,71,96,105,77,90,68,114,101,66,130,80,94,117,111,103,76,120,90,105,124,95,146,101,134,119,89,78,111,98,116,58,138,114,131,80,83,110,115,63,73,95,134,88,64,72,78,99,147,136,87,73,93,84,74,117,97,104,128,94,136,115,88,112,66,109,102,107,106,109,74,90,103,106,98,115,103,130,105,113,94,103,82,133,95,123,118,90,122,117,102,106,75,85,108,110,102,120,111,113,80,135,104,91,85,90,134,115,105,101,131,107,126,104,91,107,78,104,72,108,109,123,86,55,87,125,96,108,97,59,84,51,66,85,103,80,61,98,112,105,86,105,105,107,115,97,52,115,107,115,114,127,77,80,121,87,103,89,95,94,112,142,63,73,88,87,12,51,88,97,98,105,121,64,123,65,99,100,84,117,122,104,102,101,118,111,146,128,62,70,101,119,106,110,95,99,95,99,94,121,72,97,89,126,85,58,98,92,101,50,120,54,126,120,108,80,92,157,69,97,88,93,88,73,113,95,102,91,115,101,113,126,71,104,105,102,128,77,88,128,108,128,103,102,70,69,90,86,118,86,122,119,76,124,99,105,88,104,106,105,69,89,143,88,142,155,99,114,97,89,96,82,78,123,85,87,129,121,107,142,97,88,81,87,96,71,109,82,129,109,88,119,89,122,89,113,130,89,91,60,66,99,104,82,93,97,114,85,123,124,111,135,106,86,71,92,79,89,112,101,138,118,97,113,124,115,96,100,125,105,87,82,84,89,52,85,101,87,129,113,93,123,106,108,91,108,90,78,136,106,89,90,92,132,110,122,115,111,90,63,109,80,110,102,134,81,102,102,126,75,147,116,112,89,118,95,104,118,79,92,134,63,101,121,111,96,119,93,108,114,86,99,109,89,108,74,138,103,64,109,85,120,113,104,82,78,79,109,116,78,112,79,142,87,116,94,91,104,119,108,128,97,108,98,108,91,102,111,115,73,109,97,84,113,136,112,127,103,111,45,81,102,105,125,112,124,78,116,68,109,99,93,84,91,96,116,62,95,104,98,118,111,127,121,100,98,83,83,125,114,126,146,107,115,91,87,69,88,104,77,136,96,93,126,64,128,105,120,101,100,88,96,91,116,90,98,131,129,86,80,79,127,92,105,64,109,123,78,119,103,86,106,115,76,62,125,95,104,107,96,109,139,113,77,97,107,95,100,115,123,103,110,83,83,124,127,80,92,54,113,136,124,89,83,102,119,97,112,75,81,77,71,63,93,115,110,94,91,78,94,106,95,92,104,79,100,110,70,131,114,96,125,100,120,84,121,121,118,97,97,97,105,131,137,85,118,115,82,94,52,107,140,50,103,94,115,110,48,85,92,83,68,87,106,110,68,100,101,88,127,78,120,83,92,65,104,97,117,78,105,64,113,122,105,110,70,103,81,120,82,115,100,114,80,95,80,108,110,88,125,89,94,122,98,81,113,88,93,75,81,103,109,107,108,115,119,105,101,65,99,111,105,120,106,117,102,89,109,101,104,121,120,86,109,73,119,97,133,125,113,97,95,85,121,123,77,78,104,90,65,113,94,82,94,68,91,94,84,90,94,85,91,90,82,57,132,99,73,89,122,95,113,111,80,115,126,108,132,113,80,108,84,89,102,112,100,133,108,112,83,114,144,101,99,112,103,92,120,106,36,86,113,111,99,109,101,104,133,131,82,110,90,103,122,128,129,80,97,81,120,90,85,94,103,94,84,86,98,136,110,98,74,73,106,107,113,94,75,60,144,120,102,110,67,105,87,74,76,60,61,122,100,78,51,110,131,106,75,140,96,86,91,105,103,91,115,105,102,81,121,116,140,61,84,114,156,129,53,71,88,114,104,105,67,133,115,111,116,113,75,56,105,103,119,67,105,46,115,99,100,88,101,64,103,83,95,78,88,129,103,136,112,63,102,120,111,94,90,93,109,113,128,84,121,90,81,114,113,88,74,117,65,100,60,71,85,81,60,102,101,106,108,91,135,108,102,107,105,108,91,130,123,90,111,130,105,75,137,117,123,84,119,116,87,106,88,121,74,125,123,113,100,115,110,112,121,93,66,127,89,103,69,118,102,101,83,123,128,125,113,87,106,95,106,70,117,123,105,71,91,76,44,90,103,77,94,57,120,86,126,88,76,115,107,87,153,97,143,67,97,134,92,66,56,64,77,109,100,107,112,61,80,118,76,96,116,105,101,88,109,64,88,112,101,120,85,117,95,99,119,115,119,141,112,118,129,130,98,50,81,134,144,91,76,86,93,107,81,80,115,100,106,83,114,123,100,108,90,91,94,135,78,90,152,116,88,144,99,105,123,123,115,112,108,90,78,48,60,99,85,88,97,83,123,98,101,98,83,87,77,94,91,92,84,95,95,92,128,104,78,71,93,89,94,88,142,95,92,89,103,99,67,94,91,86,109,97,90,122,88,87,105,102,122,112,65,92,69,91,96,102,142,74,97,108,109,89,88,113,113,91,116,91,112,117,102,83,110,108,91,48,108,106,154,109,105,90,87,94,75,109,122,103,98,123,100,81,121,120,114,100,79,114,86,98,95,98,78,99,96,144,82,87,110,102,132,126,96,98,89,111,97,74,109,83,107,103,74,111,91,77,89,113,97,111,91,74,97,124,99,97,70,87,115,92,80,108,120,126,101,87,85,124,105,73,84,94,123,81,112,79,133,116,111,119,97,121,113,106,138,116,104,104,76,97,111,86,115,110,98,99,109,103,142,91,72,125,68,92,100,82,71,85,119,68,133,107,85,88,137,91,149,126,138,105,95,86,101,59,115,88,137,86,105,86,81,105,65,65,129,155,97,136,93,94,85,63,103,77,126,148,100,111,98,116,85,77,74,93,111,92,121,86,125,111,84,93,80,88,103,74,69,91,108,107,65,77,129,147,82,74,101,127,59,108,48,105,84,97,109,92,97,87,98,105,96,84,83,66,104,79,133,96,94,115,87,70,118,85,90,81,97,95,92,116,96,93,109,114,97,61,88,96,94,69,73,83,99,84,130,107,123,91,144,124,96,117,141,68,118,118,116,86,81,102,116,95,93,83,123,99,84,94,73,96,120,125,78,102,74,128,89,58,114,93,96,88,98,101,97,116,98,104,94,107,84,111,91,106,98,111,99,83,79,70,102,118,83,93,115,111,96,131,103,97,114,81,88,75,72,85,84,83,77,126,109,119,98,84,78,74,76,121,102,112,116,90,137,98,115,100,118,114,138,110,96,101,86,84,57,134,116,142,95,89,66,80,121,98,90,109,80,94,82,109,112,101,89,109,79,73,105,109,123,119,98,76,88,56,80,102,108,87,107,87,96,82,99,87,152,103,92,85,96,73,104,135,120,88,107,114,112,123,94,113,94,101,106,82,79,78,118,139,74,87,118,77,77,130,102,113,70,117,59,93,103,83,76,69,125,93,96,110,111,83,118,146,104,79,95,87,149,118,109,106,114,94,109,90,116,107,90,77,108,53,141,79,85,150,99,119,114,133,115,116,56,128,99,101,102,46,85,114,99,120,99,101,101,67,109,107,103,94,105,90,110,117,97,111,103,60,102,116,111,114,107,118,88,110,87,102,100,98,102,80,87,109,95,89,118,89,89,121,66,123,93,107,58,73,91,110,112,65,111,87,115,86,111,94,127,147,84,101,118,96,124,112,94,117,103,88,100,125,90,114,73,129,84,104,123,115,94,112,77,119,111,88,82,136,96,114,71,83,105,113,127,90,50,98,106,114,88,100,95,100,118,86,69,149,111,91,103,115,69,116,102,105,87,121,85,114,123,100,118,110,91,110,118,92,117,100,89,117,101,101,104,104,119,98,118,105,109,95,109,120,94,108,73,71,141,51,105,104,98,75,86,93,58,111,118,99,103,105,152,75,129,110,96,114,108,105,75,99,76,79,83,110,112,85,95,128,101,100,84,94,110,150,105,108,89,120,101,122,70,69,105,131,117,87,67,97,65,78,102,120,95,74,121,106,93,87,91,116,107,118,43,101,116,111,117,128,116,94,87,90,87,136,74,65,91,113,127,119,96,78,111,97,94,67,110,104,117,109,105,104,60,92,101,108,80,130,102,54,124,109,78,69,120,113,84,89,89,118,96,101,83,115,106,108,98,96,122,103,124,112,107,86,115,70,129,152,123,0,66,95,154,78,103,101,117,146,97,90,65,110,105,84,119,134,104,112,113,93,103,123,85,97,94,82,90,126,90,78,93,95,92,62,117,89,85,83,107,97,94,114,127,79,90,82,130,122,110,86,108,95,83,77,141,95,111,77,83,108,104,87,121,107,125,80,134,85,127,59,97,86,83,72,101,115,99,91,111,68,108,104,109,76,102,137,114,106,78,80,81,90,70,144,98,89,120,98,127,74,100,89,106,89,103,105,76,93,99,95,79,127,114,106,112,79,102,109,85,122,95,93,143,97,124,130,93,82,92,94,131,80,96,127,115,119,131,100,108,145,101,108,88,65,121,87,108,137,125,89,93,99,81,93,85,92,150,155,129,102,108,127,138,111,113,65,78,111,105,91,107,87,88,79,100,101,140,92,92,130,83,126,78,67,114,104,97,110,115,80,105,105,76,128,98,106,143,102,74,131,117,99,70,117,103,118,116,98,103,77,129,83,85,76,133,98,127,93,97,91,76,125,88,122,136,104,88,117,117,83,87,127,112,123,107,83,96,92,121,65,170,105,118,83,101,96,87,101,96,105,95,110,100,111,85,66,119,81,99,109,88,94,95,109,114,121,87,105,83,106,109,91,114,108,116,84,110,67,79,107,104,68,99,91,117,91,106,96,97,82,92,58,130,94,149,109,90,116,77,110,98,137,96,111,84,115,143,116,99,125,85,131,123,97,102,107,83,93,95,74,106,96,113,118,115,110,105,88,87,68,126,55,58,84,82],\"z\":[91,103,104,89,121,118,118,96,90,97,94,128,115,99,75,121,108,74,133,78,105,115,115,115,68,102,90,148,98,78,116,71,109,108,107,108,135,78,92,86,116,118,127,79,87,129,57,68,98,128,103,95,54,106,92,53,106,102,67,139,60,104,61,109,105,99,111,113,76,119,109,90,68,78,98,57,94,62,105,91,137,72,113,92,102,100,102,75,115,113,86,142,108,86,91,113,114,88,122,118,81,116,123,103,89,117,106,86,102,123,80,120,60,80,130,134,129,71,59,112,116,139,96,98,110,105,103,86,67,105,86,142,87,101,112,79,114,101,103,105,82,91,104,126,90,73,53,79,86,86,150,104,106,115,113,112,112,103,103,127,121,92,103,121,112,107,115,69,119,131,88,92,126,89,96,131,110,83,93,117,84,90,124,89,109,94,68,121,131,120,91,107,99,68,104,104,113,123,136,139,102,108,92,122,113,117,98,101,110,87,79,103,110,96,106,66,97,112,143,108,58,81,86,92,95,80,55,61,96,136,85,83,100,98,89,99,100,104,107,101,114,100,99,59,114,119,71,80,105,56,102,84,84,98,94,124,108,70,109,85,99,91,114,111,89,90,70,107,74,82,64,77,111,46,76,76,102,78,89,74,91,112,118,42,95,96,108,94,78,101,44,104,136,104,102,145,62,84,99,119,101,89,105,100,85,87,82,98,114,96,90,97,99,131,136,81,115,100,114,76,82,91,108,58,82,111,106,96,50,112,92,120,82,111,98,53,105,100,102,77,115,91,42,137,118,110,112,96,112,100,73,108,88,108,99,92,72,122,92,93,81,106,124,112,83,102,108,130,97,128,128,153,98,94,125,49,108,134,123,86,112,67,103,109,110,86,110,122,82,92,76,81,94,76,69,70,80,86,91,90,111,89,111,100,105,115,106,83,53,132,83,110,115,124,92,94,93,97,92,75,87,106,105,126,76,120,175,120,115,82,118,95,111,121,76,82,76,120,138,129,87,90,104,84,120,114,99,92,90,123,94,136,107,134,91,72,99,87,66,73,104,99,87,93,102,123,92,84,113,94,92,115,131,85,118,100,107,75,120,92,119,88,130,102,83,119,102,97,98,87,119,90,108,124,105,80,119,124,119,90,117,93,108,154,124,102,110,103,107,92,104,109,98,106,101,126,140,71,128,93,97,91,124,116,129,60,141,100,96,130,140,97,121,106,131,83,78,72,80,76,93,95,114,91,102,94,116,118,117,113,95,102,92,128,95,146,103,125,94,111,93,120,109,93,55,89,86,63,93,58,100,84,141,96,124,124,90,98,89,88,79,77,104,91,120,105,83,82,87,120,57,101,80,107,123,101,111,105,104,118,99,105,77,72,86,79,113,129,114,118,113,121,65,72,109,76,119,86,78,106,81,94,83,116,109,72,115,136,118,101,95,110,101,124,103,94,76,127,103,76,111,115,120,98,84,86,92,123,122,113,88,107,75,102,121,104,103,71,78,95,120,68,91,137,103,76,101,91,101,81,107,91,116,79,91,84,71,101,67,134,68,78,128,60,85,78,64,76,77,106,108,105,124,135,104,97,95,79,86,89,82,121,111,95,64,108,122,82,113,68,100,118,124,103,96,87,105,84,123,105,77,100,114,81,99,127,94,71,120,109,133,92,94,81,130,109,98,85,75,111,101,119,99,113,119,135,112,95,81,92,108,115,125,108,119,80,91,105,105,93,80,77,106,90,127,146,74,104,64,119,140,117,102,95,98,77,104,124,91,131,110,93,112,107,77,92,88,131,112,89,73,73,104,106,93,130,124,113,84,130,113,94,89,106,79,103,79,90,123,64,105,114,137,118,123,92,94,74,107,89,106,85,110,88,120,130,114,81,89,77,142,118,116,103,111,121,128,118,85,110,111,83,102,85,100,92,50,97,90,93,89,63,126,124,81,108,105,82,137,115,126,104,101,103,96,87,97,103,76,105,91,94,115,86,127,110,113,95,124,122,151,100,91,94,101,91,110,120,96,138,71,89,117,128,99,114,122,130,66,93,105,108,111,102,102,91,117,112,133,104,99,107,75,59,116,107,84,112,88,100,99,78,119,103,97,116,104,76,103,116,105,70,112,97,115,115,96,107,60,77,77,99,64,93,118,67,65,86,84,100,123,106,77,131,83,108,104,67,74,62,114,94,129,79,100,89,124,91,89,76,116,155,113,87,93,121,114,103,105,73,120,138,87,95,94,112,101,91,98,58,109,102,91,97,135,77,113,117,81,105,106,92,68,57,103,113,85,102,117,140,100,102,119,95,105,89,63,114,113,109,106,75,61,108,57,102,124,88,83,83,104,124,92,100,124,136,74,80,104,101,109,92,69,104,98,71,126,125,89,99,121,157,93,75,90,108,118,128,121,90,110,94,128,100,119,89,127,84,92,119,118,100,123,104,93,81,112,106,87,66,110,80,95,84,73,115,111,98,120,82,103,85,127,102,94,100,120,109,106,91,133,89,104,113,93,102,102,134,113,80,97,128,97,96,80,120,68,138,93,71,69,118,95,75,99,74,87,133,123,116,93,80,102,125,97,157,121,89,84,61,80,110,73,92,114,98,98,96,122,104,69,73,147,114,86,110,134,101,102,80,100,75,91,85,90,105,129,71,116,73,125,124,60,97,86,99,115,115,102,102,103,90,83,126,100,96,121,104,82,116,93,63,143,133,93,86,95,117,120,105,127,101,98,107,118,115,113,125,102,99,115,91,109,95,82,103,100,95,84,94,114,108,101,93,88,110,77,110,78,115,121,91,134,114,106,79,106,105,102,109,132,107,113,90,85,95,79,71,110,97,74,112,82,136,112,110,99,123,97,82,114,76,131,86,83,88,113,73,115,108,113,129,114,104,76,90,123,77,94,84,99,114,116,74,104,103,85,110,95,110,108,98,120,117,98,100,139,97,76,120,91,91,106,65,109,101,90,121,95,86,117,81,94,117,147,125,110,145,120,110,113,105,91,101,121,107,100,102,113,105,66,109,98,95,73,123,108,86,81,102,116,93,87,113,105,66,91,72,93,105,125,95,68,70,97,103,105,87,102,118,101,86,117,121,78,132,102,110,101,110,107,72,97,77,99,131,100,116,80,105,83,76,96,73,82,70,74,70,95,73,120,126,68,65,139,109,95,93,100,129,83,90,120,99,78,88,83,90,79,107,92,77,97,103,109,100,111,113,123,122,61,83,98,114,71,121,108,91,89,120,96,95,99,111,75,125,79,95,129,78,110,139,114,104,114,75,120,75,107,92,112,108,83,96,101,79,119,130,130,98,74,105,80,71,123,77,91,106,105,55,118,99,83,74,111,110,65,109,124,120,107,79,80,84,85,105,105,117,110,67,115,99,116,82,109,74,93,88,131,76,134,75,77,131,126,53,76,85,131,100,83,99,93,60,99,105,78,55,123,132,117,132,154,102,103,120,82,103,114,108,108,95,127,83,106,96,120,79,106,99,89,124,87,106,109,113,120,129,125,99,148,92,144,77,103,99,123,91,99,123,131,129,95,94,90,93,96,125,93,99,92,71,106,111,153,96,96,138,125,100,116,128,125,87,95,113,88,104,125,103,128,113,72,117,89,130,134,122,130,107,95,144,105,115,94,55,117,117,62,107,113,94,86,108,103,109,108,78,90,60,60,114,107,88,83,104,86,119,117,135,91,94,98,85,106,118,80,83,107,120,93,112,96,87,122,82,93,92,116,123,89,96,100,102,118,136,96,105,112,106,119,87,115,101,102,92,64,92,96,96,131,106,105,117,85,101,135,91,92,90,88,73,100,114,91,102,127,130,70,76,113,64,62,93,84,92,105,98,89,124,94,107,73,92,62,80,72,108,90,144,122,95,85,111,89,106,128,82,125,107,100,110,70,130,120,63,88,54,112,105,136,100,103,82,121,98,105,67,123,105,99,96,74,112,113,117,93,83,104,92,75,91,145,114,97,110,121,61,112,71,122,108,129,85,103,91,84,114,94,119,95,127,67,102,98,112,146,126,103,116,96,105,105,102,116,109,82,83,122,91,59,113,81,88,121,121,139,123,81,89,68,95,75,104,91,103,80,114,99,108,90,82,101,107,82,104,71,87,95,99,106,99,74,86,87,112,93,66,91,87,120,82,111,102,69,96,73,105,112,96,135,112,88,113,91,74,120,103,93,119,81,108,103,78,72,86,91,88,110,89,120,104,98,99,105,57,104,118,92,85,109,99,86,72,124,97,92,82,104,105,74,119,105,117,93,98,90,87,78,127,104,74,112,104,104,101,116,95,131,59,51,94,92,126,112,104,126,104,106,99,130,122,84,126,86,87,70,94,84,84,88,92,90,66,86,111,107,105,125,83,95,121,96,106,101,105,96,104,91,105,100,130,72,123,98,82,58,64,108,117,92,97,117,78,75,149,105,114,111,82,96,94,108,98,101,75,140,88,78,76,145,117,80,67,133,96,105,97,166,90,75,139,79,115,117,103,80,115,91,65,94,96,67,112,91,94,102,61,82,90,109,110,81,97,118,105,71,92,123,119,89,69,65,104,87,99,102,132,76,75,105,85,64,102,109,97,123,106,113,88,119,89,88,99,113,81,74,105,123,102,107,94,128,77,76,69,110,90,99,97,74,102,92,88,118,101,104,67,134,144,94,88,91,114,103,83,117,82,72,86,113,91,125,56,121,107,133,133,94,110,73,123,96,79,79,81,113,91,110,73,95,121,85,137,134,101,131,76,110,115,94,77,114,143,111,106,98,87,111,103,94,79,92,107,86,67,104,96,102,109,110,89,82,88,79,103,109,91,122,68,75,109,69,91,81,65,109,72,113,125,107,104,97,103,74,104,71,109,103,130,121,112,83,108,115,94,100,87,65,119,106,147,98,104,103,70,107,84,63,126,95,83,128,129,61,90,91,94,111,74,131,90,87,97,98,67,103,111,86,78,62,112,86,93,85,124,96,93,114,115,100,123,115,78,71,87,116,111,129,98,94,109,95,66,114,91,96,120,90,85,122,106,103,96,121,116,89,124,114,112,52,108,116,107,128,90,96,105,104,129,90,91,89,98,82,117,59,71,137,93,115,89,121,119,107,117,106,106,111,104,98,99,109,74,73,75,114,65,80,104,55,109,72,114,85,113,122,100,104,98,90,123,96,83,119,87,89,109,33,109,72,109,110,111,106,80,89,141,115,63,82,109,84,92,72,95,78,121,121,142,110,131,96,100,79,112,69,107,107,145,97,97,85,116,89,108,111,68,89,108,78,100,127,121,123,82,105,83,90,87,102,101,155,122,112,104,85,156,116,100,65,84,111,109,80,86,102,67,105,85,88,104,80,108,69,87,83,133,124,96,80,116,108,116,82,86,98,77,61,99,128,103,105,101,98,81,94,113,114,147,133,95,73,82,135,63,76,136,67,101,104,87,98,91,122,72,112,109,110,86,97,106,70,89,72,117,80,87,86,64,111,96,140,125,118,95,146,109,108,69,84,112,118,94,103,106,107,87,69,95,85,91,105,151,86,88,71,93,98,120,100,117,103,136,84,102,73,115,109,104,105,104,79,73,81,80,85,117,88,107,113,148,100,98,100,94,107,115,98,108,77,111,113,104,83,117,96,145,137,38,122,82,78,88,126,92,122,100,79,87,88,87,151,87,68,120,63,96,94,100,133,82,97,100,94,93,119,118,100,85,116,87,109,92,117,114,67,104,108,90,81,97,75,110,109,112,52,134,106,110,116,108,97,99,131,97,117,108,98,152,99,61,77,132,36,109,109,98,79,129,118,88,104,85,83,97,80,92,138,102,77,111,85,110,110,85,132,130,87,131,104,111,82,93,99,61,82,92,111,123,114,112,69,106,82,91,97,97,87,75,83,104,108,79,117,74,107,120,72,92,126,117,106,102,101,79,116,102,95,124,101,110,95,110,122,92,88,102,87,118,97,97,110,87,91,96,125,131,126,81,98,108,100,68,94,111,85,92,82,63,78,125,120,66,138,106,113,68,137,108,106,88,96,80,96,120,88,79,86,124,150,72,105,89,97,106,104,78,113,99,91,126,97,93,121,106,80,123,77,87,113,100,98,91,102,105,120,107,89,94,119,89,100,109,75,143,123,85,118,95,107,91,97,156,132,105,88,75,101,63,74,86,103,105,111,118,136,98,139,62,136,142,108,106,82,90,105,121,117,95,85,92,101,85,107,112,48,164,122,111,109,107,103,66,108,105,93,99,114,96,87,95,87,98,90,83,120,74,153,138,125,88,95,105,118,69,85,82,102,74,123,93,102,77,65,131,93,118,122,94,99,103,126,71,96,115,101,79,109,111,121,98,125,132,105,92,115,117,122,92,96,113,83,95,122,87,92,57,109,80,112,113,108,100,94,86,73,65,72,95,108,124,110,97,120,98,108,94,106,112,134,82,109,92,128,83,123,91,137,77],\"type\":\"scatter3d\"},{\"hovertemplate\":\"Churn=True<br>Total_day_calls=%{x}<br>Total_eve_calls=%{y}<br>Total_night_calls=%{z}<extra></extra>\",\"legendgroup\":\"True\",\"marker\":{\"color\":\"#EF553B\",\"symbol\":\"circle\"},\"mode\":\"markers\",\"name\":\"True\",\"scene\":\"scene\",\"showlegend\":true,\"x\":[137,67,89,118,85,114,83,129,101,109,117,96,105,125,100,131,72,89,114,108,124,86,120,94,67,101,98,121,109,106,95,99,99,111,96,95,93,106,108,111,99,109,81,83,121,63,63,77,53,75,57,84,78,103,91,134,47,99,100,76,125,124,113,103,59,91,113,61,61,122,114,113,86,120,90,91,58,112,96,137,121,151,128,118,86,77,82,79,109,125,97,85,69,78,95,92,105,86,89,132,97,110,86,98,126,102,94,106,92,89,114,119,85,96,107,123,113,145,123,103,147,67,63,103,118,105,102,55,103,138,148,106,125,92,123,113,128,100,129,165,105,73,111,71,106,120,108,98,95,141,98,91,83,84,69,114,48,129,77,95,66,90,69,81,106,42,115,92,99,107,96,89,0,45,124,91,97,105,139,85,80,105,68,114,116,80,59,66,106,90,112,99,141,104,84,102,99,122,111,106,93,119,102,73,88,133,79,143,134,78,80,120,73,120,114,75,89,108,95,129,84,85,95,125,120,147,74,83,108,87,125,110,83,108,73,118,100,82,117,122,115,144,96,101,103,103,83,75,156,126,99,97,89,123,111,127,103,117,91,125,94,101,124,90,100,110,82,109,83,92,84,119,109,106,69,87,106,104,119,134,108,112,89,135,112,101,129,119,109,120,86,96,127,102,89,94,69,120,74,124,103,110,121,133,94,61,104,122,103,116,108,120,108,77,71,72,113,85,97,103,123,106,125,117,123,108,141,102,71,87,101,130,82,112,119,120,94,66,123,88,108,118,128,120,91,72,95,88,65,60,108,100,117,116,116,60,112,95,104,141,81,80,90,131,89,78,109,106,92,110,120,136,108,115,128,123,105,139,126,81,82,86,124,104,69,124,91,106,104,78,92,103,84,105,93,88,109,90,112,118,113,68,48,71,106,97,87,118,93,134,44,101,108,88,104,105,134,116,73,86,118,116,100,87,115,106,81,44,136,81,134,107,86,83,114,130,91,105,101,112,74,92,129,122,106,99,95,89,99,115,96,100,115,97,112,60,85,110,115,110,151,83,90,92,101,117,93,118,112,117,104,61,83,100,141,140,119,119,113,114,101,105,126],\"y\":[83,97,121,119,107,117,116,77,110,100,85,85,101,93,104,104,126,122,48,87,103,87,116,118,113,97,115,118,100,98,102,60,80,126,67,114,116,168,68,118,89,118,74,74,93,71,67,85,127,94,88,112,108,109,68,122,110,103,90,74,100,112,94,125,98,110,122,119,120,88,125,94,82,94,91,61,108,92,94,99,79,113,92,79,76,109,110,90,99,92,48,92,120,111,104,110,105,86,102,99,102,100,102,102,125,86,121,93,114,96,74,102,92,101,115,127,87,121,114,96,105,91,131,105,104,128,114,79,74,117,69,105,104,143,86,95,56,117,113,121,147,101,90,83,94,96,125,79,110,101,110,77,117,136,81,94,112,104,108,108,116,117,112,117,110,88,59,103,93,105,111,113,130,107,106,97,75,110,113,86,94,91,98,132,87,113,116,121,89,97,100,128,102,114,84,80,125,125,88,109,113,103,102,120,110,121,88,134,87,106,115,96,120,120,111,111,71,84,90,94,80,131,111,74,147,89,95,83,108,83,67,100,97,85,108,111,84,106,102,92,99,129,141,111,96,80,130,114,106,117,78,95,114,127,98,118,108,122,91,126,102,68,96,128,67,104,94,107,56,119,61,94,67,89,141,71,101,144,105,71,92,100,109,88,81,115,86,86,106,112,133,92,83,111,95,106,96,123,88,108,93,67,73,86,126,88,131,79,151,103,140,111,122,79,114,98,96,82,106,90,124,54,106,123,78,64,107,137,78,92,102,115,72,110,111,88,95,119,108,120,119,113,96,110,79,99,70,84,96,73,107,53,98,109,103,100,109,109,117,136,106,66,127,102,121,142,67,77,107,98,90,72,102,67,92,112,101,94,82,112,85,99,110,132,135,108,92,86,104,100,82,84,125,133,132,79,97,98,117,80,103,74,82,68,96,94,113,91,117,78,144,133,126,75,87,94,87,126,81,87,84,91,105,101,88,106,125,105,134,71,99,103,105,94,70,71,79,88,81,70,85,117,128,71,115,128,109,95,93,123,89,135,82,117,122,159,93,86,102,63,56,106,72,98,60,111,97,73,94,86,122,60,74,97,101,133,90,133,90,140,77,122,97],\"z\":[111,128,64,90,78,91,127,77,100,73,99,88,84,68,119,96,109,126,115,82,129,132,114,91,102,127,93,114,74,125,81,75,79,80,106,89,86,119,87,105,107,78,101,111,152,126,74,97,82,100,95,89,91,121,118,59,88,102,104,126,101,115,111,102,117,101,98,63,110,117,98,82,76,80,118,67,104,90,123,108,77,116,79,93,105,132,100,91,82,134,83,86,86,104,121,80,51,87,151,57,77,138,105,85,121,100,115,128,125,84,90,118,97,63,158,70,107,91,112,143,103,107,109,116,83,90,118,102,106,103,101,129,100,79,75,123,84,131,94,81,106,125,133,114,119,97,98,76,107,77,60,109,76,103,104,114,122,128,82,78,112,98,111,83,111,119,102,115,106,120,97,91,88,89,140,89,124,93,117,107,135,98,97,116,73,87,106,84,123,97,97,84,96,95,112,96,78,81,114,93,78,90,93,94,119,100,71,119,132,103,95,67,102,61,88,98,76,74,90,88,87,84,104,141,140,98,126,98,111,91,101,124,80,92,107,112,84,73,74,116,86,105,116,117,120,103,100,125,93,123,115,105,95,76,146,98,93,125,132,104,125,89,109,80,135,84,134,118,100,86,102,94,152,114,106,65,106,61,112,120,126,88,102,77,78,76,108,100,78,95,106,108,132,104,97,76,112,96,119,64,120,84,71,80,78,131,106,78,106,102,115,91,122,98,82,89,85,129,126,126,89,76,127,124,89,145,93,105,87,113,120,113,112,97,106,88,102,94,64,119,101,101,80,95,131,109,78,88,75,120,61,64,118,130,94,63,94,129,95,100,107,80,103,118,121,84,76,107,111,106,99,118,62,118,130,71,73,66,81,117,74,121,69,87,94,104,128,123,76,115,83,81,90,76,137,92,109,128,100,53,99,111,78,100,129,100,107,94,98,113,97,103,117,116,99,107,147,114,69,106,86,115,119,121,96,75,120,75,101,97,90,95,108,95,85,82,58,111,77,75,104,125,91,105,116,83,119,75,110,115,93,104,118,139,85,122,132,81,94,123,109,84,121,108,82,111,118,87,106,101,73,114,99,148,109,116,49,94,103,80,133,72,56],\"type\":\"scatter3d\"}],                        {\"template\":{\"data\":{\"bar\":[{\"error_x\":{\"color\":\"#2a3f5f\"},\"error_y\":{\"color\":\"#2a3f5f\"},\"marker\":{\"line\":{\"color\":\"#E5ECF6\",\"width\":0.5},\"pattern\":{\"fillmode\":\"overlay\",\"size\":10,\"solidity\":0.2}},\"type\":\"bar\"}],\"barpolar\":[{\"marker\":{\"line\":{\"color\":\"#E5ECF6\",\"width\":0.5},\"pattern\":{\"fillmode\":\"overlay\",\"size\":10,\"solidity\":0.2}},\"type\":\"barpolar\"}],\"carpet\":[{\"aaxis\":{\"endlinecolor\":\"#2a3f5f\",\"gridcolor\":\"white\",\"linecolor\":\"white\",\"minorgridcolor\":\"white\",\"startlinecolor\":\"#2a3f5f\"},\"baxis\":{\"endlinecolor\":\"#2a3f5f\",\"gridcolor\":\"white\",\"linecolor\":\"white\",\"minorgridcolor\":\"white\",\"startlinecolor\":\"#2a3f5f\"},\"type\":\"carpet\"}],\"choropleth\":[{\"colorbar\":{\"outlinewidth\":0,\"ticks\":\"\"},\"type\":\"choropleth\"}],\"contour\":[{\"colorbar\":{\"outlinewidth\":0,\"ticks\":\"\"},\"colorscale\":[[0.0,\"#0d0887\"],[0.1111111111111111,\"#46039f\"],[0.2222222222222222,\"#7201a8\"],[0.3333333333333333,\"#9c179e\"],[0.4444444444444444,\"#bd3786\"],[0.5555555555555556,\"#d8576b\"],[0.6666666666666666,\"#ed7953\"],[0.7777777777777778,\"#fb9f3a\"],[0.8888888888888888,\"#fdca26\"],[1.0,\"#f0f921\"]],\"type\":\"contour\"}],\"contourcarpet\":[{\"colorbar\":{\"outlinewidth\":0,\"ticks\":\"\"},\"type\":\"contourcarpet\"}],\"heatmap\":[{\"colorbar\":{\"outlinewidth\":0,\"ticks\":\"\"},\"colorscale\":[[0.0,\"#0d0887\"],[0.1111111111111111,\"#46039f\"],[0.2222222222222222,\"#7201a8\"],[0.3333333333333333,\"#9c179e\"],[0.4444444444444444,\"#bd3786\"],[0.5555555555555556,\"#d8576b\"],[0.6666666666666666,\"#ed7953\"],[0.7777777777777778,\"#fb9f3a\"],[0.8888888888888888,\"#fdca26\"],[1.0,\"#f0f921\"]],\"type\":\"heatmap\"}],\"heatmapgl\":[{\"colorbar\":{\"outlinewidth\":0,\"ticks\":\"\"},\"colorscale\":[[0.0,\"#0d0887\"],[0.1111111111111111,\"#46039f\"],[0.2222222222222222,\"#7201a8\"],[0.3333333333333333,\"#9c179e\"],[0.4444444444444444,\"#bd3786\"],[0.5555555555555556,\"#d8576b\"],[0.6666666666666666,\"#ed7953\"],[0.7777777777777778,\"#fb9f3a\"],[0.8888888888888888,\"#fdca26\"],[1.0,\"#f0f921\"]],\"type\":\"heatmapgl\"}],\"histogram\":[{\"marker\":{\"pattern\":{\"fillmode\":\"overlay\",\"size\":10,\"solidity\":0.2}},\"type\":\"histogram\"}],\"histogram2d\":[{\"colorbar\":{\"outlinewidth\":0,\"ticks\":\"\"},\"colorscale\":[[0.0,\"#0d0887\"],[0.1111111111111111,\"#46039f\"],[0.2222222222222222,\"#7201a8\"],[0.3333333333333333,\"#9c179e\"],[0.4444444444444444,\"#bd3786\"],[0.5555555555555556,\"#d8576b\"],[0.6666666666666666,\"#ed7953\"],[0.7777777777777778,\"#fb9f3a\"],[0.8888888888888888,\"#fdca26\"],[1.0,\"#f0f921\"]],\"type\":\"histogram2d\"}],\"histogram2dcontour\":[{\"colorbar\":{\"outlinewidth\":0,\"ticks\":\"\"},\"colorscale\":[[0.0,\"#0d0887\"],[0.1111111111111111,\"#46039f\"],[0.2222222222222222,\"#7201a8\"],[0.3333333333333333,\"#9c179e\"],[0.4444444444444444,\"#bd3786\"],[0.5555555555555556,\"#d8576b\"],[0.6666666666666666,\"#ed7953\"],[0.7777777777777778,\"#fb9f3a\"],[0.8888888888888888,\"#fdca26\"],[1.0,\"#f0f921\"]],\"type\":\"histogram2dcontour\"}],\"mesh3d\":[{\"colorbar\":{\"outlinewidth\":0,\"ticks\":\"\"},\"type\":\"mesh3d\"}],\"parcoords\":[{\"line\":{\"colorbar\":{\"outlinewidth\":0,\"ticks\":\"\"}},\"type\":\"parcoords\"}],\"pie\":[{\"automargin\":true,\"type\":\"pie\"}],\"scatter\":[{\"marker\":{\"colorbar\":{\"outlinewidth\":0,\"ticks\":\"\"}},\"type\":\"scatter\"}],\"scatter3d\":[{\"line\":{\"colorbar\":{\"outlinewidth\":0,\"ticks\":\"\"}},\"marker\":{\"colorbar\":{\"outlinewidth\":0,\"ticks\":\"\"}},\"type\":\"scatter3d\"}],\"scattercarpet\":[{\"marker\":{\"colorbar\":{\"outlinewidth\":0,\"ticks\":\"\"}},\"type\":\"scattercarpet\"}],\"scattergeo\":[{\"marker\":{\"colorbar\":{\"outlinewidth\":0,\"ticks\":\"\"}},\"type\":\"scattergeo\"}],\"scattergl\":[{\"marker\":{\"colorbar\":{\"outlinewidth\":0,\"ticks\":\"\"}},\"type\":\"scattergl\"}],\"scattermapbox\":[{\"marker\":{\"colorbar\":{\"outlinewidth\":0,\"ticks\":\"\"}},\"type\":\"scattermapbox\"}],\"scatterpolar\":[{\"marker\":{\"colorbar\":{\"outlinewidth\":0,\"ticks\":\"\"}},\"type\":\"scatterpolar\"}],\"scatterpolargl\":[{\"marker\":{\"colorbar\":{\"outlinewidth\":0,\"ticks\":\"\"}},\"type\":\"scatterpolargl\"}],\"scatterternary\":[{\"marker\":{\"colorbar\":{\"outlinewidth\":0,\"ticks\":\"\"}},\"type\":\"scatterternary\"}],\"surface\":[{\"colorbar\":{\"outlinewidth\":0,\"ticks\":\"\"},\"colorscale\":[[0.0,\"#0d0887\"],[0.1111111111111111,\"#46039f\"],[0.2222222222222222,\"#7201a8\"],[0.3333333333333333,\"#9c179e\"],[0.4444444444444444,\"#bd3786\"],[0.5555555555555556,\"#d8576b\"],[0.6666666666666666,\"#ed7953\"],[0.7777777777777778,\"#fb9f3a\"],[0.8888888888888888,\"#fdca26\"],[1.0,\"#f0f921\"]],\"type\":\"surface\"}],\"table\":[{\"cells\":{\"fill\":{\"color\":\"#EBF0F8\"},\"line\":{\"color\":\"white\"}},\"header\":{\"fill\":{\"color\":\"#C8D4E3\"},\"line\":{\"color\":\"white\"}},\"type\":\"table\"}]},\"layout\":{\"annotationdefaults\":{\"arrowcolor\":\"#2a3f5f\",\"arrowhead\":0,\"arrowwidth\":1},\"autotypenumbers\":\"strict\",\"coloraxis\":{\"colorbar\":{\"outlinewidth\":0,\"ticks\":\"\"}},\"colorscale\":{\"diverging\":[[0,\"#8e0152\"],[0.1,\"#c51b7d\"],[0.2,\"#de77ae\"],[0.3,\"#f1b6da\"],[0.4,\"#fde0ef\"],[0.5,\"#f7f7f7\"],[0.6,\"#e6f5d0\"],[0.7,\"#b8e186\"],[0.8,\"#7fbc41\"],[0.9,\"#4d9221\"],[1,\"#276419\"]],\"sequential\":[[0.0,\"#0d0887\"],[0.1111111111111111,\"#46039f\"],[0.2222222222222222,\"#7201a8\"],[0.3333333333333333,\"#9c179e\"],[0.4444444444444444,\"#bd3786\"],[0.5555555555555556,\"#d8576b\"],[0.6666666666666666,\"#ed7953\"],[0.7777777777777778,\"#fb9f3a\"],[0.8888888888888888,\"#fdca26\"],[1.0,\"#f0f921\"]],\"sequentialminus\":[[0.0,\"#0d0887\"],[0.1111111111111111,\"#46039f\"],[0.2222222222222222,\"#7201a8\"],[0.3333333333333333,\"#9c179e\"],[0.4444444444444444,\"#bd3786\"],[0.5555555555555556,\"#d8576b\"],[0.6666666666666666,\"#ed7953\"],[0.7777777777777778,\"#fb9f3a\"],[0.8888888888888888,\"#fdca26\"],[1.0,\"#f0f921\"]]},\"colorway\":[\"#636efa\",\"#EF553B\",\"#00cc96\",\"#ab63fa\",\"#FFA15A\",\"#19d3f3\",\"#FF6692\",\"#B6E880\",\"#FF97FF\",\"#FECB52\"],\"font\":{\"color\":\"#2a3f5f\"},\"geo\":{\"bgcolor\":\"white\",\"lakecolor\":\"white\",\"landcolor\":\"#E5ECF6\",\"showlakes\":true,\"showland\":true,\"subunitcolor\":\"white\"},\"hoverlabel\":{\"align\":\"left\"},\"hovermode\":\"closest\",\"mapbox\":{\"style\":\"light\"},\"paper_bgcolor\":\"white\",\"plot_bgcolor\":\"#E5ECF6\",\"polar\":{\"angularaxis\":{\"gridcolor\":\"white\",\"linecolor\":\"white\",\"ticks\":\"\"},\"bgcolor\":\"#E5ECF6\",\"radialaxis\":{\"gridcolor\":\"white\",\"linecolor\":\"white\",\"ticks\":\"\"}},\"scene\":{\"xaxis\":{\"backgroundcolor\":\"#E5ECF6\",\"gridcolor\":\"white\",\"gridwidth\":2,\"linecolor\":\"white\",\"showbackground\":true,\"ticks\":\"\",\"zerolinecolor\":\"white\"},\"yaxis\":{\"backgroundcolor\":\"#E5ECF6\",\"gridcolor\":\"white\",\"gridwidth\":2,\"linecolor\":\"white\",\"showbackground\":true,\"ticks\":\"\",\"zerolinecolor\":\"white\"},\"zaxis\":{\"backgroundcolor\":\"#E5ECF6\",\"gridcolor\":\"white\",\"gridwidth\":2,\"linecolor\":\"white\",\"showbackground\":true,\"ticks\":\"\",\"zerolinecolor\":\"white\"}},\"shapedefaults\":{\"line\":{\"color\":\"#2a3f5f\"}},\"ternary\":{\"aaxis\":{\"gridcolor\":\"white\",\"linecolor\":\"white\",\"ticks\":\"\"},\"baxis\":{\"gridcolor\":\"white\",\"linecolor\":\"white\",\"ticks\":\"\"},\"bgcolor\":\"#E5ECF6\",\"caxis\":{\"gridcolor\":\"white\",\"linecolor\":\"white\",\"ticks\":\"\"}},\"title\":{\"x\":0.05},\"xaxis\":{\"automargin\":true,\"gridcolor\":\"white\",\"linecolor\":\"white\",\"ticks\":\"\",\"title\":{\"standoff\":15},\"zerolinecolor\":\"white\",\"zerolinewidth\":2},\"yaxis\":{\"automargin\":true,\"gridcolor\":\"white\",\"linecolor\":\"white\",\"ticks\":\"\",\"title\":{\"standoff\":15},\"zerolinecolor\":\"white\",\"zerolinewidth\":2}}},\"scene\":{\"domain\":{\"x\":[0.0,1.0],\"y\":[0.0,1.0]},\"xaxis\":{\"title\":{\"text\":\"Total_day_calls\"}},\"yaxis\":{\"title\":{\"text\":\"Total_eve_calls\"}},\"zaxis\":{\"title\":{\"text\":\"Total_night_calls\"}}},\"legend\":{\"title\":{\"text\":\"Churn\"},\"tracegroupgap\":0},\"margin\":{\"t\":60}},                        {\"responsive\": true}                    ).then(function(){\n",
              "                            \n",
              "var gd = document.getElementById('face6442-383e-48e9-b4f8-9dfe033ebd6f');\n",
              "var x = new MutationObserver(function (mutations, observer) {{\n",
              "        var display = window.getComputedStyle(gd).display;\n",
              "        if (!display || display === 'none') {{\n",
              "            console.log([gd, 'removed!']);\n",
              "            Plotly.purge(gd);\n",
              "            observer.disconnect();\n",
              "        }}\n",
              "}});\n",
              "\n",
              "// Listen for the removal of the full notebook cells\n",
              "var notebookContainer = gd.closest('#notebook-container');\n",
              "if (notebookContainer) {{\n",
              "    x.observe(notebookContainer, {childList: true});\n",
              "}}\n",
              "\n",
              "// Listen for the clearing of the current output cell\n",
              "var outputEl = gd.closest('.output');\n",
              "if (outputEl) {{\n",
              "    x.observe(outputEl, {childList: true});\n",
              "}}\n",
              "\n",
              "                        })                };                            </script>        </div>\n",
              "</body>\n",
              "</html>"
            ]
          },
          "metadata": {}
        }
      ]
    },
    {
      "cell_type": "markdown",
      "source": [
        "The above graph helps us to visualize the calls placed during day, evening and night and if they are churned or not in different states . "
      ],
      "metadata": {
        "id": "ZofOunNKra-Y"
      }
    },
    {
      "cell_type": "code",
      "source": [
        "# Extracting the values for total charges placed during day, evening and night\n",
        "\n",
        "df[['Total day charge','Total eve charge','Total night charge']]"
      ],
      "metadata": {
        "id": "hl_-2nFxIOh0",
        "colab": {
          "base_uri": "https://localhost:8080/",
          "height": 424
        },
        "outputId": "91f38d54-7c62-4307-c752-1206a20ce94a"
      },
      "execution_count": null,
      "outputs": [
        {
          "output_type": "execute_result",
          "data": {
            "text/plain": [
              "      Total day charge  Total eve charge  Total night charge\n",
              "0                45.07             16.78               11.01\n",
              "1                27.47             16.62               11.45\n",
              "2                41.38             10.30                7.32\n",
              "3                50.90              5.26                8.86\n",
              "4                28.34             12.61                8.41\n",
              "...                ...               ...                 ...\n",
              "3328             26.55             18.32               12.56\n",
              "3329             39.29             13.04                8.61\n",
              "3330             30.74             24.55                8.64\n",
              "3331             36.35             13.57                6.26\n",
              "3332             39.85             22.60               10.86\n",
              "\n",
              "[3333 rows x 3 columns]"
            ],
            "text/html": [
              "\n",
              "  <div id=\"df-7eac6125-1305-4c91-9986-b5093887b06d\">\n",
              "    <div class=\"colab-df-container\">\n",
              "      <div>\n",
              "<style scoped>\n",
              "    .dataframe tbody tr th:only-of-type {\n",
              "        vertical-align: middle;\n",
              "    }\n",
              "\n",
              "    .dataframe tbody tr th {\n",
              "        vertical-align: top;\n",
              "    }\n",
              "\n",
              "    .dataframe thead th {\n",
              "        text-align: right;\n",
              "    }\n",
              "</style>\n",
              "<table border=\"1\" class=\"dataframe\">\n",
              "  <thead>\n",
              "    <tr style=\"text-align: right;\">\n",
              "      <th></th>\n",
              "      <th>Total day charge</th>\n",
              "      <th>Total eve charge</th>\n",
              "      <th>Total night charge</th>\n",
              "    </tr>\n",
              "  </thead>\n",
              "  <tbody>\n",
              "    <tr>\n",
              "      <th>0</th>\n",
              "      <td>45.07</td>\n",
              "      <td>16.78</td>\n",
              "      <td>11.01</td>\n",
              "    </tr>\n",
              "    <tr>\n",
              "      <th>1</th>\n",
              "      <td>27.47</td>\n",
              "      <td>16.62</td>\n",
              "      <td>11.45</td>\n",
              "    </tr>\n",
              "    <tr>\n",
              "      <th>2</th>\n",
              "      <td>41.38</td>\n",
              "      <td>10.30</td>\n",
              "      <td>7.32</td>\n",
              "    </tr>\n",
              "    <tr>\n",
              "      <th>3</th>\n",
              "      <td>50.90</td>\n",
              "      <td>5.26</td>\n",
              "      <td>8.86</td>\n",
              "    </tr>\n",
              "    <tr>\n",
              "      <th>4</th>\n",
              "      <td>28.34</td>\n",
              "      <td>12.61</td>\n",
              "      <td>8.41</td>\n",
              "    </tr>\n",
              "    <tr>\n",
              "      <th>...</th>\n",
              "      <td>...</td>\n",
              "      <td>...</td>\n",
              "      <td>...</td>\n",
              "    </tr>\n",
              "    <tr>\n",
              "      <th>3328</th>\n",
              "      <td>26.55</td>\n",
              "      <td>18.32</td>\n",
              "      <td>12.56</td>\n",
              "    </tr>\n",
              "    <tr>\n",
              "      <th>3329</th>\n",
              "      <td>39.29</td>\n",
              "      <td>13.04</td>\n",
              "      <td>8.61</td>\n",
              "    </tr>\n",
              "    <tr>\n",
              "      <th>3330</th>\n",
              "      <td>30.74</td>\n",
              "      <td>24.55</td>\n",
              "      <td>8.64</td>\n",
              "    </tr>\n",
              "    <tr>\n",
              "      <th>3331</th>\n",
              "      <td>36.35</td>\n",
              "      <td>13.57</td>\n",
              "      <td>6.26</td>\n",
              "    </tr>\n",
              "    <tr>\n",
              "      <th>3332</th>\n",
              "      <td>39.85</td>\n",
              "      <td>22.60</td>\n",
              "      <td>10.86</td>\n",
              "    </tr>\n",
              "  </tbody>\n",
              "</table>\n",
              "<p>3333 rows × 3 columns</p>\n",
              "</div>\n",
              "      <button class=\"colab-df-convert\" onclick=\"convertToInteractive('df-7eac6125-1305-4c91-9986-b5093887b06d')\"\n",
              "              title=\"Convert this dataframe to an interactive table.\"\n",
              "              style=\"display:none;\">\n",
              "        \n",
              "  <svg xmlns=\"http://www.w3.org/2000/svg\" height=\"24px\"viewBox=\"0 0 24 24\"\n",
              "       width=\"24px\">\n",
              "    <path d=\"M0 0h24v24H0V0z\" fill=\"none\"/>\n",
              "    <path d=\"M18.56 5.44l.94 2.06.94-2.06 2.06-.94-2.06-.94-.94-2.06-.94 2.06-2.06.94zm-11 1L8.5 8.5l.94-2.06 2.06-.94-2.06-.94L8.5 2.5l-.94 2.06-2.06.94zm10 10l.94 2.06.94-2.06 2.06-.94-2.06-.94-.94-2.06-.94 2.06-2.06.94z\"/><path d=\"M17.41 7.96l-1.37-1.37c-.4-.4-.92-.59-1.43-.59-.52 0-1.04.2-1.43.59L10.3 9.45l-7.72 7.72c-.78.78-.78 2.05 0 2.83L4 21.41c.39.39.9.59 1.41.59.51 0 1.02-.2 1.41-.59l7.78-7.78 2.81-2.81c.8-.78.8-2.07 0-2.86zM5.41 20L4 18.59l7.72-7.72 1.47 1.35L5.41 20z\"/>\n",
              "  </svg>\n",
              "      </button>\n",
              "      \n",
              "  <style>\n",
              "    .colab-df-container {\n",
              "      display:flex;\n",
              "      flex-wrap:wrap;\n",
              "      gap: 12px;\n",
              "    }\n",
              "\n",
              "    .colab-df-convert {\n",
              "      background-color: #E8F0FE;\n",
              "      border: none;\n",
              "      border-radius: 50%;\n",
              "      cursor: pointer;\n",
              "      display: none;\n",
              "      fill: #1967D2;\n",
              "      height: 32px;\n",
              "      padding: 0 0 0 0;\n",
              "      width: 32px;\n",
              "    }\n",
              "\n",
              "    .colab-df-convert:hover {\n",
              "      background-color: #E2EBFA;\n",
              "      box-shadow: 0px 1px 2px rgba(60, 64, 67, 0.3), 0px 1px 3px 1px rgba(60, 64, 67, 0.15);\n",
              "      fill: #174EA6;\n",
              "    }\n",
              "\n",
              "    [theme=dark] .colab-df-convert {\n",
              "      background-color: #3B4455;\n",
              "      fill: #D2E3FC;\n",
              "    }\n",
              "\n",
              "    [theme=dark] .colab-df-convert:hover {\n",
              "      background-color: #434B5C;\n",
              "      box-shadow: 0px 1px 3px 1px rgba(0, 0, 0, 0.15);\n",
              "      filter: drop-shadow(0px 1px 2px rgba(0, 0, 0, 0.3));\n",
              "      fill: #FFFFFF;\n",
              "    }\n",
              "  </style>\n",
              "\n",
              "      <script>\n",
              "        const buttonEl =\n",
              "          document.querySelector('#df-7eac6125-1305-4c91-9986-b5093887b06d button.colab-df-convert');\n",
              "        buttonEl.style.display =\n",
              "          google.colab.kernel.accessAllowed ? 'block' : 'none';\n",
              "\n",
              "        async function convertToInteractive(key) {\n",
              "          const element = document.querySelector('#df-7eac6125-1305-4c91-9986-b5093887b06d');\n",
              "          const dataTable =\n",
              "            await google.colab.kernel.invokeFunction('convertToInteractive',\n",
              "                                                     [key], {});\n",
              "          if (!dataTable) return;\n",
              "\n",
              "          const docLinkHtml = 'Like what you see? Visit the ' +\n",
              "            '<a target=\"_blank\" href=https://colab.research.google.com/notebooks/data_table.ipynb>data table notebook</a>'\n",
              "            + ' to learn more about interactive tables.';\n",
              "          element.innerHTML = '';\n",
              "          dataTable['output_type'] = 'display_data';\n",
              "          await google.colab.output.renderOutput(dataTable, element);\n",
              "          const docLink = document.createElement('div');\n",
              "          docLink.innerHTML = docLinkHtml;\n",
              "          element.appendChild(docLink);\n",
              "        }\n",
              "      </script>\n",
              "    </div>\n",
              "  </div>\n",
              "  "
            ]
          },
          "metadata": {},
          "execution_count": 11
        }
      ]
    },
    {
      "cell_type": "markdown",
      "source": [
        "#Analyzing the Total day charges, total evening charges, and total night charges "
      ],
      "metadata": {
        "id": "I_1-PfZpy_RS"
      }
    },
    {
      "cell_type": "code",
      "source": [
        "# Ploting the graph for total charges for calls placed during day, eve and night each\n",
        "\n",
        "df[['Total day charge','Total eve charge','Total night charge']].hist(figsize = (15,10), alpha = 0.9)\n",
        "\n",
        "plt.show()"
      ],
      "metadata": {
        "id": "47FdbnCPIWX2",
        "colab": {
          "base_uri": "https://localhost:8080/",
          "height": 610
        },
        "outputId": "20552f51-7876-4549-a17d-6b09391c6747"
      },
      "execution_count": null,
      "outputs": [
        {
          "output_type": "display_data",
          "data": {
            "text/plain": [
              "<Figure size 1080x720 with 4 Axes>"
            ],
            "image/png": "[encoded data removed]"
          },
          "metadata": {}
        }
      ]
    },
    {
      "cell_type": "code",
      "source": [
        "# Average charge for day calls\n",
        "\n",
        "df['Total day charge'].mean()"
      ],
      "metadata": {
        "id": "fDui1FSGJ9z3",
        "colab": {
          "base_uri": "https://localhost:8080/"
        },
        "outputId": "fb8379ce-2495-4b85-fa31-e8087df2a069"
      },
      "execution_count": null,
      "outputs": [
        {
          "output_type": "execute_result",
          "data": {
            "text/plain": [
              "30.562307230723075"
            ]
          },
          "metadata": {},
          "execution_count": 48
        }
      ]
    },
    {
      "cell_type": "code",
      "source": [
        "# Average charge for eve calls\n",
        "\n",
        "df['Total eve charge'].mean()"
      ],
      "metadata": {
        "id": "FItZqu25J-eD",
        "colab": {
          "base_uri": "https://localhost:8080/"
        },
        "outputId": "b90f60d5-10d8-479e-affa-ada106578e74"
      },
      "execution_count": null,
      "outputs": [
        {
          "output_type": "execute_result",
          "data": {
            "text/plain": [
              "17.083540354035403"
            ]
          },
          "metadata": {},
          "execution_count": 49
        }
      ]
    },
    {
      "cell_type": "code",
      "source": [
        "# Average charge for night calls\n",
        "\n",
        "df['Total night charge'].mean()"
      ],
      "metadata": {
        "id": "bTGSRFHPJ_IA",
        "colab": {
          "base_uri": "https://localhost:8080/"
        },
        "outputId": "c62607ee-5f03-4ccb-86be-581990ac4821"
      },
      "execution_count": null,
      "outputs": [
        {
          "output_type": "execute_result",
          "data": {
            "text/plain": [
              "9.03932493249325"
            ]
          },
          "metadata": {},
          "execution_count": 50
        }
      ]
    },
    {
      "cell_type": "markdown",
      "source": [
        " If we try to understand the graphs on x axis are the total charges and on y axis are the number of calls during each time of the day. Comparing the charges for calls during day, evening and night it can be observed that the charges for calls during day are very high followed by evening and night. Average rate at which customers are placing call during day ranges betwwen 20 - 40, for evening it is approx. 15 - 19 and for night is 5.5 - 11.\n",
        "\n",
        "The rates might be one of the possible reasons for customer churn or let's due to which the customers might opt for companies which offer the same service at cheaper rate.\n",
        "\n",
        "If the company already has a wide range of plans  then it might be an another possibility that the customers are not aware about those plans ."
      ],
      "metadata": {
        "id": "Uy_2jaPqKRZ-"
      }
    },
    {
      "cell_type": "markdown",
      "source": [
        "#Relation Between Account Lenght and Churn"
      ],
      "metadata": {
        "id": "miq9mRE3VrVh"
      }
    },
    {
      "cell_type": "code",
      "source": [
        "# Creating and distribution plot of Account Length\n",
        "telecom1=df.copy()\n",
        "telecom1.head()\n",
        "sb.distplot(telecom1['Account length'])\n"
      ],
      "metadata": {
        "id": "3nPOH0WBSdpX",
        "colab": {
          "base_uri": "https://localhost:8080/",
          "height": 569
        },
        "outputId": "2b41b407-ee64-487d-c275-d8561d6392bc"
      },
      "execution_count": null,
      "outputs": [
        {
          "output_type": "stream",
          "name": "stderr",
          "text": [
            "/usr/local/lib/python3.7/dist-packages/seaborn/distributions.py:2619: FutureWarning: `distplot` is a deprecated function and will be removed in a future version. Please adapt your code to use either `displot` (a figure-level function with similar flexibility) or `histplot` (an axes-level function for histograms).\n",
            "  warnings.warn(msg, FutureWarning)\n"
          ]
        },
        {
          "output_type": "execute_result",
          "data": {
            "text/plain": [
              "<matplotlib.axes._subplots.AxesSubplot at 0x7fed669c5550>"
            ]
          },
          "metadata": {},
          "execution_count": 15
        },
        {
          "output_type": "display_data",
          "data": {
            "text/plain": [
              "<Figure size 720x576 with 1 Axes>"
            ],
            "image/png": "[encoded data removed]"
          },
          "metadata": {
            "needs_background": "light"
          }
        }
      ]
    },
    {
      "cell_type": "code",
      "source": [
        "# Comparing Account Lenght with Churn \n",
        "churn   = telecom1[telecom1[\"Churn\"] == bool(True)]\n",
        "sb.distplot(telecom1['Account length'],color = 'blue',label=\"All\")\n",
        "sb.distplot(churn['Account length'],color = \"red\",hist=False,label=\"Churn\")"
      ],
      "metadata": {
        "id": "DyX7xscgVoFS",
        "colab": {
          "base_uri": "https://localhost:8080/",
          "height": 604
        },
        "outputId": "a94b86c5-0661-4018-e470-c30491add40b"
      },
      "execution_count": null,
      "outputs": [
        {
          "output_type": "stream",
          "name": "stderr",
          "text": [
            "/usr/local/lib/python3.7/dist-packages/seaborn/distributions.py:2619: FutureWarning: `distplot` is a deprecated function and will be removed in a future version. Please adapt your code to use either `displot` (a figure-level function with similar flexibility) or `histplot` (an axes-level function for histograms).\n",
            "  warnings.warn(msg, FutureWarning)\n",
            "/usr/local/lib/python3.7/dist-packages/seaborn/distributions.py:2619: FutureWarning: `distplot` is a deprecated function and will be removed in a future version. Please adapt your code to use either `displot` (a figure-level function with similar flexibility) or `kdeplot` (an axes-level function for kernel density plots).\n",
            "  warnings.warn(msg, FutureWarning)\n"
          ]
        },
        {
          "output_type": "execute_result",
          "data": {
            "text/plain": [
              "<matplotlib.axes._subplots.AxesSubplot at 0x7fed66991b90>"
            ]
          },
          "metadata": {},
          "execution_count": 16
        },
        {
          "output_type": "display_data",
          "data": {
            "text/plain": [
              "<Figure size 720x576 with 1 Axes>"
            ],
            "image/png": "[encoded data removed]"
          },
          "metadata": {
            "needs_background": "light"
          }
        }
      ]
    },
    {
      "cell_type": "markdown",
      "source": [
        "Observations:-\n",
        "\n",
        "We can see that churn rate keeps rising till account length is 125 and keeps reducing after, by this we understand that there are more chances of a customer to churn while his account lenght is less than 125. More offers and discounts must be provided to customers of account length less than 125 as an effort to retain them."
      ],
      "metadata": {
        "id": "Bj8_ldBnZ0U2"
      }
    },
    {
      "cell_type": "markdown",
      "source": [
        "#Conclusion"
      ],
      "metadata": {
        "id": "0xnUzJUZ3H7C"
      }
    },
    {
      "cell_type": "markdown",
      "source": [
        "After performing exploratory data analysis on the data set, this is what we have incurred from data:\n",
        "\n",
        "There are some states where the churn rate is high as compared to others may be due to low network coverage. *Area code and Account length do not play any kind of role regarding the churn rate so,it's redundant data columns *In the International plan those customers who have this plan are churn more and also the international calling charges are also high so the customer who has the plan unsatisfied with network issues and high call charge.*Total day call minutes, total day calls, Total day charge, Total eve minutes, Total eve calls, Total eve charge, Total night minutes, Total night calls, Total night charge, these columns didn't play any kind of role regarding the churn rate. *In international calls data shows that the churn rate of those customers is high, those who take the international plan so it means that in international call charges are high also there is a call drop or network issue. *In Customer service calls data shows us that whenever an unsatisfied customer called the service center the churn rate is high, which means the service center didn't resolve the customer issue."
      ],
      "metadata": {
        "id": "efMM6O3C3MVZ"
      }
    },
    {
      "cell_type": "markdown",
      "source": [
        "#RECOMMENDATIONS:"
      ],
      "metadata": {
        "id": "F8nF-JT83jXR"
      }
    },
    {
      "cell_type": "markdown",
      "source": [
        "Improve network coverage churned state\n",
        "\n",
        "In international plan provide some discount plan to the customer\n",
        "\n",
        "Improve the voice mail quality or take feedback from the customer\n",
        "\n",
        "Improve the service of call center and take frequently feedback from the customer regarding their issue and try to solve it as soon as possible"
      ],
      "metadata": {
        "id": "YshbB4nO3uCs"
      }
    }
  ]
}